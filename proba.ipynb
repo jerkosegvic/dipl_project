{
 "cells": [
  {
   "cell_type": "markdown",
   "metadata": {},
   "source": []
  },
  {
   "cell_type": "code",
   "execution_count": 1,
   "metadata": {},
   "outputs": [
    {
     "name": "stderr",
     "output_type": "stream",
     "text": [
      "/home/jerko/.local/lib/python3.12/site-packages/tqdm/auto.py:21: TqdmWarning: IProgress not found. Please update jupyter and ipywidgets. See https://ipywidgets.readthedocs.io/en/stable/user_install.html\n",
      "  from .autonotebook import tqdm as notebook_tqdm\n"
     ]
    }
   ],
   "source": [
    "import transformers\n",
    "import pandas\n",
    "import numpy\n",
    "import torch\n",
    "import json"
   ]
  },
  {
   "cell_type": "code",
   "execution_count": 2,
   "metadata": {},
   "outputs": [],
   "source": [
    "dataset = pandas.read_parquet('raw_data/RACE/validation-00000-of-00001.parquet')"
   ]
  },
  {
   "cell_type": "code",
   "execution_count": 3,
   "metadata": {},
   "outputs": [
    {
     "data": {
      "text/html": [
       "<div>\n",
       "<style scoped>\n",
       "    .dataframe tbody tr th:only-of-type {\n",
       "        vertical-align: middle;\n",
       "    }\n",
       "\n",
       "    .dataframe tbody tr th {\n",
       "        vertical-align: top;\n",
       "    }\n",
       "\n",
       "    .dataframe thead th {\n",
       "        text-align: right;\n",
       "    }\n",
       "</style>\n",
       "<table border=\"1\" class=\"dataframe\">\n",
       "  <thead>\n",
       "    <tr style=\"text-align: right;\">\n",
       "      <th></th>\n",
       "      <th>example_id</th>\n",
       "      <th>article</th>\n",
       "      <th>answer</th>\n",
       "      <th>question</th>\n",
       "      <th>options</th>\n",
       "    </tr>\n",
       "  </thead>\n",
       "  <tbody>\n",
       "    <tr>\n",
       "      <th>0</th>\n",
       "      <td>high5060.txt</td>\n",
       "      <td>I am a psychologist. I first met Timothy, a qu...</td>\n",
       "      <td>C</td>\n",
       "      <td>What did the writer think of Timothy after lea...</td>\n",
       "      <td>[Timothy was very hardworking., Timothy was be...</td>\n",
       "    </tr>\n",
       "    <tr>\n",
       "      <th>1</th>\n",
       "      <td>high5060.txt</td>\n",
       "      <td>I am a psychologist. I first met Timothy, a qu...</td>\n",
       "      <td>A</td>\n",
       "      <td>Which of the following statements best describ...</td>\n",
       "      <td>[Children should be allowed enough time to pla...</td>\n",
       "    </tr>\n",
       "    <tr>\n",
       "      <th>2</th>\n",
       "      <td>high5060.txt</td>\n",
       "      <td>I am a psychologist. I first met Timothy, a qu...</td>\n",
       "      <td>C</td>\n",
       "      <td>According to the passage, how long should a th...</td>\n",
       "      <td>[About ten minutes., No more than twenty minut...</td>\n",
       "    </tr>\n",
       "    <tr>\n",
       "      <th>3</th>\n",
       "      <td>high14410.txt</td>\n",
       "      <td>From self-driving cars to carebots (care+robot...</td>\n",
       "      <td>A</td>\n",
       "      <td>According to the report,   _  .</td>\n",
       "      <td>[people won't necessarily lose jobs, big compa...</td>\n",
       "    </tr>\n",
       "    <tr>\n",
       "      <th>4</th>\n",
       "      <td>high14410.txt</td>\n",
       "      <td>From self-driving cars to carebots (care+robot...</td>\n",
       "      <td>B</td>\n",
       "      <td>We can infer from the text that in the future ...</td>\n",
       "      <td>[people will face many difficulties, people wi...</td>\n",
       "    </tr>\n",
       "    <tr>\n",
       "      <th>...</th>\n",
       "      <td>...</td>\n",
       "      <td>...</td>\n",
       "      <td>...</td>\n",
       "      <td>...</td>\n",
       "      <td>...</td>\n",
       "    </tr>\n",
       "    <tr>\n",
       "      <th>4882</th>\n",
       "      <td>middle5525.txt</td>\n",
       "      <td>John and Jack met at the old bench every after...</td>\n",
       "      <td>B</td>\n",
       "      <td>John sat on the beach and probably waited for  _</td>\n",
       "      <td>[his mother, Jack, Steven, his uncle]</td>\n",
       "    </tr>\n",
       "    <tr>\n",
       "      <th>4883</th>\n",
       "      <td>middle5525.txt</td>\n",
       "      <td>John and Jack met at the old bench every after...</td>\n",
       "      <td>C</td>\n",
       "      <td>What is the best title for the passage?</td>\n",
       "      <td>[A birthday present, A football match, A home-...</td>\n",
       "    </tr>\n",
       "    <tr>\n",
       "      <th>4884</th>\n",
       "      <td>middle7740.txt</td>\n",
       "      <td>Everyone has got two personalities --- the one...</td>\n",
       "      <td>A</td>\n",
       "      <td>You may find this passage in   _   .</td>\n",
       "      <td>[a science magazine, A shopping guide book, a ...</td>\n",
       "    </tr>\n",
       "    <tr>\n",
       "      <th>4885</th>\n",
       "      <td>middle7740.txt</td>\n",
       "      <td>Everyone has got two personalities --- the one...</td>\n",
       "      <td>B</td>\n",
       "      <td>Tina hardly tells her secrets to her friends ....</td>\n",
       "      <td>[curled up, on her stomach, on her back, on he...</td>\n",
       "    </tr>\n",
       "    <tr>\n",
       "      <th>4886</th>\n",
       "      <td>middle7740.txt</td>\n",
       "      <td>Everyone has got two personalities --- the one...</td>\n",
       "      <td>C</td>\n",
       "      <td>What does the passage tell us ?</td>\n",
       "      <td>[Sleeping on you side is the best way of sleep...</td>\n",
       "    </tr>\n",
       "  </tbody>\n",
       "</table>\n",
       "<p>4887 rows × 5 columns</p>\n",
       "</div>"
      ],
      "text/plain": [
       "          example_id                                            article  \\\n",
       "0       high5060.txt  I am a psychologist. I first met Timothy, a qu...   \n",
       "1       high5060.txt  I am a psychologist. I first met Timothy, a qu...   \n",
       "2       high5060.txt  I am a psychologist. I first met Timothy, a qu...   \n",
       "3      high14410.txt  From self-driving cars to carebots (care+robot...   \n",
       "4      high14410.txt  From self-driving cars to carebots (care+robot...   \n",
       "...              ...                                                ...   \n",
       "4882  middle5525.txt  John and Jack met at the old bench every after...   \n",
       "4883  middle5525.txt  John and Jack met at the old bench every after...   \n",
       "4884  middle7740.txt  Everyone has got two personalities --- the one...   \n",
       "4885  middle7740.txt  Everyone has got two personalities --- the one...   \n",
       "4886  middle7740.txt  Everyone has got two personalities --- the one...   \n",
       "\n",
       "     answer                                           question  \\\n",
       "0         C  What did the writer think of Timothy after lea...   \n",
       "1         A  Which of the following statements best describ...   \n",
       "2         C  According to the passage, how long should a th...   \n",
       "3         A                    According to the report,   _  .   \n",
       "4         B  We can infer from the text that in the future ...   \n",
       "...     ...                                                ...   \n",
       "4882      B   John sat on the beach and probably waited for  _   \n",
       "4883      C            What is the best title for the passage?   \n",
       "4884      A               You may find this passage in   _   .   \n",
       "4885      B  Tina hardly tells her secrets to her friends ....   \n",
       "4886      C                    What does the passage tell us ?   \n",
       "\n",
       "                                                options  \n",
       "0     [Timothy was very hardworking., Timothy was be...  \n",
       "1     [Children should be allowed enough time to pla...  \n",
       "2     [About ten minutes., No more than twenty minut...  \n",
       "3     [people won't necessarily lose jobs, big compa...  \n",
       "4     [people will face many difficulties, people wi...  \n",
       "...                                                 ...  \n",
       "4882              [his mother, Jack, Steven, his uncle]  \n",
       "4883  [A birthday present, A football match, A home-...  \n",
       "4884  [a science magazine, A shopping guide book, a ...  \n",
       "4885  [curled up, on her stomach, on her back, on he...  \n",
       "4886  [Sleeping on you side is the best way of sleep...  \n",
       "\n",
       "[4887 rows x 5 columns]"
      ]
     },
     "execution_count": 3,
     "metadata": {},
     "output_type": "execute_result"
    }
   ],
   "source": [
    "dataset"
   ]
  },
  {
   "cell_type": "code",
   "execution_count": 4,
   "metadata": {},
   "outputs": [
    {
     "data": {
      "text/plain": [
       "'With a \"Fast Lane\" card, visitors can   _  .'"
      ]
     },
     "execution_count": 4,
     "metadata": {},
     "output_type": "execute_result"
    }
   ],
   "source": [
    "dataset['question'][365]"
   ]
  },
  {
   "cell_type": "code",
   "execution_count": 5,
   "metadata": {},
   "outputs": [],
   "source": [
    "with open('raw_data/ReCoRD/train.json') as f:\n",
    "    record_dataset = json.load(f)"
   ]
  },
  {
   "cell_type": "code",
   "execution_count": 6,
   "metadata": {},
   "outputs": [],
   "source": [
    "record_dataset = pandas.DataFrame(record_dataset['data'])"
   ]
  },
  {
   "cell_type": "code",
   "execution_count": 7,
   "metadata": {},
   "outputs": [
    {
     "data": {
      "text/html": [
       "<div>\n",
       "<style scoped>\n",
       "    .dataframe tbody tr th:only-of-type {\n",
       "        vertical-align: middle;\n",
       "    }\n",
       "\n",
       "    .dataframe tbody tr th {\n",
       "        vertical-align: top;\n",
       "    }\n",
       "\n",
       "    .dataframe thead th {\n",
       "        text-align: right;\n",
       "    }\n",
       "</style>\n",
       "<table border=\"1\" class=\"dataframe\">\n",
       "  <thead>\n",
       "    <tr style=\"text-align: right;\">\n",
       "      <th></th>\n",
       "      <th>id</th>\n",
       "      <th>source</th>\n",
       "      <th>passage</th>\n",
       "      <th>qas</th>\n",
       "    </tr>\n",
       "  </thead>\n",
       "  <tbody>\n",
       "    <tr>\n",
       "      <th>0</th>\n",
       "      <td>536e2fdfb3c986efa15da314b0df2d2d218cf693</td>\n",
       "      <td>Daily mail</td>\n",
       "      <td>{'text': 'The harrowing stories of women and c...</td>\n",
       "      <td>[{'id': '536e2fdfb3c986efa15da314b0df2d2d218cf...</td>\n",
       "    </tr>\n",
       "    <tr>\n",
       "      <th>1</th>\n",
       "      <td>f15689cd256daa03fcfd8c357f1376a8a7017b64</td>\n",
       "      <td>CNN</td>\n",
       "      <td>{'text': 'Caracas, Venezuela (CNN) -- It's bee...</td>\n",
       "      <td>[{'id': 'f15689cd256daa03fcfd8c357f1376a8a7017...</td>\n",
       "    </tr>\n",
       "    <tr>\n",
       "      <th>2</th>\n",
       "      <td>bd4f4fd84a92411a7c03fe80fa2e84270ac51ac3</td>\n",
       "      <td>Daily mail</td>\n",
       "      <td>{'text': 'U.S. Secretary of State Henry Kissin...</td>\n",
       "      <td>[{'id': 'bd4f4fd84a92411a7c03fe80fa2e84270ac51...</td>\n",
       "    </tr>\n",
       "    <tr>\n",
       "      <th>3</th>\n",
       "      <td>16f4d0c2b42cfd57557d1aaf398110ebf519874f</td>\n",
       "      <td>Daily mail</td>\n",
       "      <td>{'text': 'A Peruvian tribe once revered by the...</td>\n",
       "      <td>[{'id': '16f4d0c2b42cfd57557d1aaf398110ebf5198...</td>\n",
       "    </tr>\n",
       "    <tr>\n",
       "      <th>4</th>\n",
       "      <td>a204b0da2b9a5267a0527632ab8d5691b2c412de</td>\n",
       "      <td>Daily mail</td>\n",
       "      <td>{'text': 'For everyone who has ever thought ab...</td>\n",
       "      <td>[{'id': 'a204b0da2b9a5267a0527632ab8d5691b2c41...</td>\n",
       "    </tr>\n",
       "    <tr>\n",
       "      <th>...</th>\n",
       "      <td>...</td>\n",
       "      <td>...</td>\n",
       "      <td>...</td>\n",
       "      <td>...</td>\n",
       "    </tr>\n",
       "    <tr>\n",
       "      <th>65704</th>\n",
       "      <td>6079a996b955d3130ad59c37b57d9958e0539b83</td>\n",
       "      <td>Daily mail</td>\n",
       "      <td>{'text': 'Liverpool are ready to revive their ...</td>\n",
       "      <td>[{'id': '6079a996b955d3130ad59c37b57d9958e0539...</td>\n",
       "    </tr>\n",
       "    <tr>\n",
       "      <th>65705</th>\n",
       "      <td>4e466fabc27adf6cb2180c8441f9b0d5266062ba</td>\n",
       "      <td>Daily mail</td>\n",
       "      <td>{'text': 'A Russian tourist has been hospitali...</td>\n",
       "      <td>[{'id': '4e466fabc27adf6cb2180c8441f9b0d526606...</td>\n",
       "    </tr>\n",
       "    <tr>\n",
       "      <th>65706</th>\n",
       "      <td>cc54a42ae756fa5bddda37e91948149793bd072b</td>\n",
       "      <td>CNN</td>\n",
       "      <td>{'text': 'Editor's note: Ilya Shapiro is a sen...</td>\n",
       "      <td>[{'id': 'cc54a42ae756fa5bddda37e91948149793bd0...</td>\n",
       "    </tr>\n",
       "    <tr>\n",
       "      <th>65707</th>\n",
       "      <td>5c6f7eec2a86ccd30d412c24f90f4c1e91aa607b</td>\n",
       "      <td>CNN</td>\n",
       "      <td>{'text': '(CNN) -- Newt Gingrich quit the pres...</td>\n",
       "      <td>[{'id': '5c6f7eec2a86ccd30d412c24f90f4c1e91aa6...</td>\n",
       "    </tr>\n",
       "    <tr>\n",
       "      <th>65708</th>\n",
       "      <td>c12e2c7c36bd87b7b34dead0a18231431f7fcdaa</td>\n",
       "      <td>Daily mail</td>\n",
       "      <td>{'text': 'By Kieran Gill Anton Ferdinand has s...</td>\n",
       "      <td>[{'id': 'c12e2c7c36bd87b7b34dead0a18231431f7fc...</td>\n",
       "    </tr>\n",
       "  </tbody>\n",
       "</table>\n",
       "<p>65709 rows × 4 columns</p>\n",
       "</div>"
      ],
      "text/plain": [
       "                                             id      source  \\\n",
       "0      536e2fdfb3c986efa15da314b0df2d2d218cf693  Daily mail   \n",
       "1      f15689cd256daa03fcfd8c357f1376a8a7017b64         CNN   \n",
       "2      bd4f4fd84a92411a7c03fe80fa2e84270ac51ac3  Daily mail   \n",
       "3      16f4d0c2b42cfd57557d1aaf398110ebf519874f  Daily mail   \n",
       "4      a204b0da2b9a5267a0527632ab8d5691b2c412de  Daily mail   \n",
       "...                                         ...         ...   \n",
       "65704  6079a996b955d3130ad59c37b57d9958e0539b83  Daily mail   \n",
       "65705  4e466fabc27adf6cb2180c8441f9b0d5266062ba  Daily mail   \n",
       "65706  cc54a42ae756fa5bddda37e91948149793bd072b         CNN   \n",
       "65707  5c6f7eec2a86ccd30d412c24f90f4c1e91aa607b         CNN   \n",
       "65708  c12e2c7c36bd87b7b34dead0a18231431f7fcdaa  Daily mail   \n",
       "\n",
       "                                                 passage  \\\n",
       "0      {'text': 'The harrowing stories of women and c...   \n",
       "1      {'text': 'Caracas, Venezuela (CNN) -- It's bee...   \n",
       "2      {'text': 'U.S. Secretary of State Henry Kissin...   \n",
       "3      {'text': 'A Peruvian tribe once revered by the...   \n",
       "4      {'text': 'For everyone who has ever thought ab...   \n",
       "...                                                  ...   \n",
       "65704  {'text': 'Liverpool are ready to revive their ...   \n",
       "65705  {'text': 'A Russian tourist has been hospitali...   \n",
       "65706  {'text': 'Editor's note: Ilya Shapiro is a sen...   \n",
       "65707  {'text': '(CNN) -- Newt Gingrich quit the pres...   \n",
       "65708  {'text': 'By Kieran Gill Anton Ferdinand has s...   \n",
       "\n",
       "                                                     qas  \n",
       "0      [{'id': '536e2fdfb3c986efa15da314b0df2d2d218cf...  \n",
       "1      [{'id': 'f15689cd256daa03fcfd8c357f1376a8a7017...  \n",
       "2      [{'id': 'bd4f4fd84a92411a7c03fe80fa2e84270ac51...  \n",
       "3      [{'id': '16f4d0c2b42cfd57557d1aaf398110ebf5198...  \n",
       "4      [{'id': 'a204b0da2b9a5267a0527632ab8d5691b2c41...  \n",
       "...                                                  ...  \n",
       "65704  [{'id': '6079a996b955d3130ad59c37b57d9958e0539...  \n",
       "65705  [{'id': '4e466fabc27adf6cb2180c8441f9b0d526606...  \n",
       "65706  [{'id': 'cc54a42ae756fa5bddda37e91948149793bd0...  \n",
       "65707  [{'id': '5c6f7eec2a86ccd30d412c24f90f4c1e91aa6...  \n",
       "65708  [{'id': 'c12e2c7c36bd87b7b34dead0a18231431f7fc...  \n",
       "\n",
       "[65709 rows x 4 columns]"
      ]
     },
     "execution_count": 7,
     "metadata": {},
     "output_type": "execute_result"
    }
   ],
   "source": [
    "record_dataset"
   ]
  },
  {
   "cell_type": "code",
   "execution_count": 8,
   "metadata": {},
   "outputs": [
    {
     "data": {
      "text/plain": [
       "{'text': \"The harrowing stories of women and children locked up for so-called 'moral crimes' in Afghanistan's notorious female prison have been revealed after cameras were allowed inside. Mariam has been in Badam Bagh prison for three months after she shot a man who just raped her at gunpoint and then turned the weapon on herself - but she has yet to been charged. Nuria has eight months left to serve of her sentence for trying to divorce her husband. She gave birth in prison to her son and they share a cell together. Scroll down for video Nuria was jailed for trying to divorce her husband. Her son is one of 62 children living at Badam Bagh prison\\n@highlight\\nMost of the 202 Badam Bagh inmates are jailed for so-called 'moral crimes'\\n@highlight\\nCrimes include leaving their husbands or refusing an arrange marriage\\n@highlight\\n62 children live there and share cells with their mothers and five others\",\n",
       " 'entities': [{'start': 86, 'end': 96},\n",
       "  {'start': 178, 'end': 183},\n",
       "  {'start': 197, 'end': 206},\n",
       "  {'start': 357, 'end': 361},\n",
       "  {'start': 535, 'end': 539},\n",
       "  {'start': 627, 'end': 636},\n",
       "  {'start': 672, 'end': 681}]}"
      ]
     },
     "execution_count": 8,
     "metadata": {},
     "output_type": "execute_result"
    }
   ],
   "source": [
    "record_dataset['passage'][0]"
   ]
  },
  {
   "cell_type": "code",
   "execution_count": 9,
   "metadata": {},
   "outputs": [
    {
     "data": {
      "text/html": [
       "<div>\n",
       "<style scoped>\n",
       "    .dataframe tbody tr th:only-of-type {\n",
       "        vertical-align: middle;\n",
       "    }\n",
       "\n",
       "    .dataframe tbody tr th {\n",
       "        vertical-align: top;\n",
       "    }\n",
       "\n",
       "    .dataframe thead th {\n",
       "        text-align: right;\n",
       "    }\n",
       "</style>\n",
       "<table border=\"1\" class=\"dataframe\">\n",
       "  <thead>\n",
       "    <tr style=\"text-align: right;\">\n",
       "      <th></th>\n",
       "      <th>id</th>\n",
       "      <th>source</th>\n",
       "      <th>passage</th>\n",
       "      <th>qas</th>\n",
       "    </tr>\n",
       "  </thead>\n",
       "  <tbody>\n",
       "    <tr>\n",
       "      <th>65704</th>\n",
       "      <td>6079a996b955d3130ad59c37b57d9958e0539b83</td>\n",
       "      <td>Daily mail</td>\n",
       "      <td>{'text': 'Liverpool are ready to revive their ...</td>\n",
       "      <td>[{'id': '6079a996b955d3130ad59c37b57d9958e0539...</td>\n",
       "    </tr>\n",
       "  </tbody>\n",
       "</table>\n",
       "</div>"
      ],
      "text/plain": [
       "                                             id      source  \\\n",
       "65704  6079a996b955d3130ad59c37b57d9958e0539b83  Daily mail   \n",
       "\n",
       "                                                 passage  \\\n",
       "65704  {'text': 'Liverpool are ready to revive their ...   \n",
       "\n",
       "                                                     qas  \n",
       "65704  [{'id': '6079a996b955d3130ad59c37b57d9958e0539...  "
      ]
     },
     "execution_count": 9,
     "metadata": {},
     "output_type": "execute_result"
    }
   ],
   "source": [
    "filtered_rows = record_dataset[record_dataset['id'] == '6079a996b955d3130ad59c37b57d9958e0539b83']\n",
    "filtered_rows"
   ]
  },
  {
   "cell_type": "code",
   "execution_count": 10,
   "metadata": {},
   "outputs": [],
   "source": [
    "fl = list(filter(lambda x: len(x) > 1, (record_dataset['qas'])))"
   ]
  },
  {
   "cell_type": "code",
   "execution_count": 11,
   "metadata": {},
   "outputs": [
    {
     "data": {
      "text/plain": [
       "21442"
      ]
     },
     "execution_count": 11,
     "metadata": {},
     "output_type": "execute_result"
    }
   ],
   "source": [
    "len(fl)"
   ]
  },
  {
   "cell_type": "code",
   "execution_count": null,
   "metadata": {},
   "outputs": [],
   "source": []
  },
  {
   "cell_type": "code",
   "execution_count": 12,
   "metadata": {},
   "outputs": [],
   "source": [
    "with open('raw_data/multirc-v2/splitv2/train_456-fixedIds.json') as f:\n",
    "    rc_dataset = json.load(f)"
   ]
  },
  {
   "cell_type": "code",
   "execution_count": 13,
   "metadata": {},
   "outputs": [],
   "source": [
    "rc_dataset = pandas.DataFrame(rc_dataset['data'])"
   ]
  },
  {
   "cell_type": "code",
   "execution_count": 14,
   "metadata": {},
   "outputs": [
    {
     "data": {
      "text/html": [
       "<div>\n",
       "<style scoped>\n",
       "    .dataframe tbody tr th:only-of-type {\n",
       "        vertical-align: middle;\n",
       "    }\n",
       "\n",
       "    .dataframe tbody tr th {\n",
       "        vertical-align: top;\n",
       "    }\n",
       "\n",
       "    .dataframe thead th {\n",
       "        text-align: right;\n",
       "    }\n",
       "</style>\n",
       "<table border=\"1\" class=\"dataframe\">\n",
       "  <thead>\n",
       "    <tr style=\"text-align: right;\">\n",
       "      <th></th>\n",
       "      <th>paragraph</th>\n",
       "      <th>id</th>\n",
       "    </tr>\n",
       "  </thead>\n",
       "  <tbody>\n",
       "    <tr>\n",
       "      <th>0</th>\n",
       "      <td>{'text': '&lt;b&gt;Sent 1: &lt;/b&gt;Animated history of t...</td>\n",
       "      <td>Society_Law_and_Justice/masc-A_defense_of_Mich...</td>\n",
       "    </tr>\n",
       "    <tr>\n",
       "      <th>1</th>\n",
       "      <td>{'text': '&lt;b&gt;Sent 1: &lt;/b&gt;Before the mysterious...</td>\n",
       "      <td>News/CNN/cnn-3b372dbbdea7cabac969352b8b3169a0e...</td>\n",
       "    </tr>\n",
       "    <tr>\n",
       "      <th>2</th>\n",
       "      <td>{'text': '&lt;b&gt;Sent 1: &lt;/b&gt;Hotel California My f...</td>\n",
       "      <td>Fiction-stories-masc-hotel-California-1.txt</td>\n",
       "    </tr>\n",
       "    <tr>\n",
       "      <th>3</th>\n",
       "      <td>{'text': '&lt;b&gt;Sent 1: &lt;/b&gt;Elaan is a declaratio...</td>\n",
       "      <td>wikiMovieSummaries-27380172.txt</td>\n",
       "    </tr>\n",
       "    <tr>\n",
       "      <th>4</th>\n",
       "      <td>{'text': '&lt;b&gt;Sent 1: &lt;/b&gt;Not until 1998 did al...</td>\n",
       "      <td>Sept11-reports/oanc-chapter-2-5.txt</td>\n",
       "    </tr>\n",
       "    <tr>\n",
       "      <th>...</th>\n",
       "      <td>...</td>\n",
       "      <td>...</td>\n",
       "    </tr>\n",
       "    <tr>\n",
       "      <th>451</th>\n",
       "      <td>{'text': '&lt;b&gt;Sent 1: &lt;/b&gt;How would the univers...</td>\n",
       "      <td>Science-textbook/science-g3-31.txt</td>\n",
       "    </tr>\n",
       "    <tr>\n",
       "      <th>452</th>\n",
       "      <td>{'text': '&lt;b&gt;Sent 1: &lt;/b&gt;Once upon a time ther...</td>\n",
       "      <td>Fiction/mctest-mc160.dev.5-0.txt</td>\n",
       "    </tr>\n",
       "    <tr>\n",
       "      <th>453</th>\n",
       "      <td>{'text': '&lt;b&gt;Sent 1: &lt;/b&gt;In her storage room-t...</td>\n",
       "      <td>Society_Law_and_Justice/oanc-Crains_New_York_B...</td>\n",
       "    </tr>\n",
       "    <tr>\n",
       "      <th>454</th>\n",
       "      <td>{'text': '&lt;b&gt;Sent 1: &lt;/b&gt;A West Tennessee nonp...</td>\n",
       "      <td>Society_Law_and_Justice/oanc-fight_domestic_ab...</td>\n",
       "    </tr>\n",
       "    <tr>\n",
       "      <th>455</th>\n",
       "      <td>{'text': '&lt;b&gt;Sent 1: &lt;/b&gt;U.S. Secretary of Sta...</td>\n",
       "      <td>News/NYT/masc-20020731-nyt-4.txt</td>\n",
       "    </tr>\n",
       "  </tbody>\n",
       "</table>\n",
       "<p>456 rows × 2 columns</p>\n",
       "</div>"
      ],
      "text/plain": [
       "                                             paragraph  \\\n",
       "0    {'text': '<b>Sent 1: </b>Animated history of t...   \n",
       "1    {'text': '<b>Sent 1: </b>Before the mysterious...   \n",
       "2    {'text': '<b>Sent 1: </b>Hotel California My f...   \n",
       "3    {'text': '<b>Sent 1: </b>Elaan is a declaratio...   \n",
       "4    {'text': '<b>Sent 1: </b>Not until 1998 did al...   \n",
       "..                                                 ...   \n",
       "451  {'text': '<b>Sent 1: </b>How would the univers...   \n",
       "452  {'text': '<b>Sent 1: </b>Once upon a time ther...   \n",
       "453  {'text': '<b>Sent 1: </b>In her storage room-t...   \n",
       "454  {'text': '<b>Sent 1: </b>A West Tennessee nonp...   \n",
       "455  {'text': '<b>Sent 1: </b>U.S. Secretary of Sta...   \n",
       "\n",
       "                                                    id  \n",
       "0    Society_Law_and_Justice/masc-A_defense_of_Mich...  \n",
       "1    News/CNN/cnn-3b372dbbdea7cabac969352b8b3169a0e...  \n",
       "2          Fiction-stories-masc-hotel-California-1.txt  \n",
       "3                      wikiMovieSummaries-27380172.txt  \n",
       "4                  Sept11-reports/oanc-chapter-2-5.txt  \n",
       "..                                                 ...  \n",
       "451                 Science-textbook/science-g3-31.txt  \n",
       "452                   Fiction/mctest-mc160.dev.5-0.txt  \n",
       "453  Society_Law_and_Justice/oanc-Crains_New_York_B...  \n",
       "454  Society_Law_and_Justice/oanc-fight_domestic_ab...  \n",
       "455                   News/NYT/masc-20020731-nyt-4.txt  \n",
       "\n",
       "[456 rows x 2 columns]"
      ]
     },
     "execution_count": 14,
     "metadata": {},
     "output_type": "execute_result"
    }
   ],
   "source": [
    "rc_dataset"
   ]
  },
  {
   "cell_type": "code",
   "execution_count": 15,
   "metadata": {},
   "outputs": [
    {
     "data": {
      "text/plain": [
       "dict_keys(['text', 'questions'])"
      ]
     },
     "execution_count": 15,
     "metadata": {},
     "output_type": "execute_result"
    }
   ],
   "source": [
    "rc_dataset['paragraph'][0].keys()"
   ]
  },
  {
   "cell_type": "code",
   "execution_count": 16,
   "metadata": {},
   "outputs": [
    {
     "name": "stdout",
     "output_type": "stream",
     "text": [
      "Sentence 1: Animated history of the US.\n",
      "Sentence 2: Of course the cartoon is highly oversimplified, and most critics consider it one of the weakest parts of the film.\n",
      "Sentence 3: But it makes a valid claim which you ignore entirely: That the strategy to promote \"gun rights\" for white people and to outlaw gun possession by black people was a way to uphold racism without letting an openly terrorist organization like the KKK flourish.\n",
      "Sentence 4: Did the 19th century NRA in the southern states promote gun rights for black people?\n",
      "Sentence 5: I highly doubt it.\n",
      "Sentence 6: But if they didn't, one of their functions was to continue the racism of the KKK.\n",
      "Sentence 7: This is the key message of this part of the animation, which is again being ignored by its critics.\n",
      "Sentence 8: Buell shooting in Flint.\n",
      "Sentence 9: You write: \"Fact: The little boy was the class thug, already suspended from school for stabbing another kid with a pencil, and had fought with Kayla the day before\".\n",
      "Sentence 10: This characterization of a six-year-old as a pencil-stabbing thug is exactly the kind of hysteria that Moore's film warns against.\n",
      "Sentence 11: It is the typical right-wing reaction which looks for simple answers that do not contradict the Republican mindset.\n",
      "Sentence 12: The kid was a little bastard, and the parents were involved in drugs -- case closed.\n",
      "Sentence 13: But why do people deal with drugs?\n",
      "Sentence 14: Because it's so much fun to do so?\n",
      "Sentence 15: It is by now well documented that the CIA tolerated crack sales in US cities to fund the operation of South American \"contras\" It is equally well known that the so-called \"war on drugs\" begun under the Nixon administration is a failure which has cost hundreds of billions and made America the world leader in prison population (both in relative and absolute numbers).\n"
     ]
    }
   ],
   "source": [
    "import re\n",
    "\n",
    "text = rc_dataset['paragraph'][0]['text']\n",
    "\n",
    "pattern = r\"<b>Sent \\d+: </b>(.*?)<br>\"\n",
    "sentences = re.findall(pattern, text)\n",
    "\n",
    "# Print the sentences\n",
    "for i, sentence in enumerate(sentences, 1):\n",
    "    print(f\"Sentence {i}: {sentence}\")\n"
   ]
  },
  {
   "cell_type": "code",
   "execution_count": 17,
   "metadata": {},
   "outputs": [
    {
     "data": {
      "text/plain": [
       "{'question': 'After what successfully won battle was Philip named \"Hegemon\"',\n",
       " 'sentences_used': [9, 10, 1, 8],\n",
       " 'answers': [{'text': 'Modern scholars', 'isAnswer': False, 'scores': {}},\n",
       "  {'text': 'The battle of Sparta', 'isAnswer': False, 'scores': {}},\n",
       "  {'text': 'Battle of Chaeronea', 'isAnswer': True, 'scores': {}}],\n",
       " 'idx': '5',\n",
       " 'multisent': True}"
      ]
     },
     "execution_count": 17,
     "metadata": {},
     "output_type": "execute_result"
    }
   ],
   "source": [
    "rc_dataset['paragraph'][6]['questions'][5]"
   ]
  },
  {
   "cell_type": "code",
   "execution_count": 18,
   "metadata": {},
   "outputs": [],
   "source": [
    "with open('raw_data/BoolQ/train.jsonl') as f:\n",
    "    boolq_dataset = f.readlines()\n",
    "\n",
    "boolq_dataset = pandas.DataFrame([json.loads(x) for x in boolq_dataset])"
   ]
  },
  {
   "cell_type": "code",
   "execution_count": 19,
   "metadata": {},
   "outputs": [
    {
     "data": {
      "text/html": [
       "<div>\n",
       "<style scoped>\n",
       "    .dataframe tbody tr th:only-of-type {\n",
       "        vertical-align: middle;\n",
       "    }\n",
       "\n",
       "    .dataframe tbody tr th {\n",
       "        vertical-align: top;\n",
       "    }\n",
       "\n",
       "    .dataframe thead th {\n",
       "        text-align: right;\n",
       "    }\n",
       "</style>\n",
       "<table border=\"1\" class=\"dataframe\">\n",
       "  <thead>\n",
       "    <tr style=\"text-align: right;\">\n",
       "      <th></th>\n",
       "      <th>question</th>\n",
       "      <th>title</th>\n",
       "      <th>answer</th>\n",
       "      <th>passage</th>\n",
       "    </tr>\n",
       "  </thead>\n",
       "  <tbody>\n",
       "    <tr>\n",
       "      <th>0</th>\n",
       "      <td>do iran and afghanistan speak the same language</td>\n",
       "      <td>Persian language</td>\n",
       "      <td>True</td>\n",
       "      <td>Persian (/ˈpɜːrʒən, -ʃən/), also known by its ...</td>\n",
       "    </tr>\n",
       "    <tr>\n",
       "      <th>1</th>\n",
       "      <td>do good samaritan laws protect those who help ...</td>\n",
       "      <td>Good Samaritan law</td>\n",
       "      <td>True</td>\n",
       "      <td>Good Samaritan laws offer legal protection to ...</td>\n",
       "    </tr>\n",
       "    <tr>\n",
       "      <th>2</th>\n",
       "      <td>is windows movie maker part of windows essentials</td>\n",
       "      <td>Windows Movie Maker</td>\n",
       "      <td>True</td>\n",
       "      <td>Windows Movie Maker (formerly known as Windows...</td>\n",
       "    </tr>\n",
       "    <tr>\n",
       "      <th>3</th>\n",
       "      <td>is confectionary sugar the same as powdered sugar</td>\n",
       "      <td>Powdered sugar</td>\n",
       "      <td>True</td>\n",
       "      <td>Powdered sugar, also called confectioners' sug...</td>\n",
       "    </tr>\n",
       "    <tr>\n",
       "      <th>4</th>\n",
       "      <td>is elder scrolls online the same as skyrim</td>\n",
       "      <td>The Elder Scrolls Online</td>\n",
       "      <td>False</td>\n",
       "      <td>As with other games in The Elder Scrolls serie...</td>\n",
       "    </tr>\n",
       "    <tr>\n",
       "      <th>...</th>\n",
       "      <td>...</td>\n",
       "      <td>...</td>\n",
       "      <td>...</td>\n",
       "      <td>...</td>\n",
       "    </tr>\n",
       "    <tr>\n",
       "      <th>9422</th>\n",
       "      <td>is a us district court a federal court</td>\n",
       "      <td>United States district court</td>\n",
       "      <td>True</td>\n",
       "      <td>The United States district courts are the gene...</td>\n",
       "    </tr>\n",
       "    <tr>\n",
       "      <th>9423</th>\n",
       "      <td>can a tenant get a restraining order against a...</td>\n",
       "      <td>Landlord harassment</td>\n",
       "      <td>True</td>\n",
       "      <td>If a landlord is found to be retaliating, he o...</td>\n",
       "    </tr>\n",
       "    <tr>\n",
       "      <th>9424</th>\n",
       "      <td>is the golden state warriors in the playoffs</td>\n",
       "      <td>Golden State Warriors</td>\n",
       "      <td>True</td>\n",
       "      <td>The Warriors went into the 2018 playoffs as th...</td>\n",
       "    </tr>\n",
       "    <tr>\n",
       "      <th>9425</th>\n",
       "      <td>downton abbey will there be a season 7</td>\n",
       "      <td>List of Downton Abbey episodes</td>\n",
       "      <td>False</td>\n",
       "      <td>Downton Abbey is a British period drama televi...</td>\n",
       "    </tr>\n",
       "    <tr>\n",
       "      <th>9426</th>\n",
       "      <td>is margin of error the same as confidence inte...</td>\n",
       "      <td>Margin of error</td>\n",
       "      <td>False</td>\n",
       "      <td>The margin of error is usually defined as the ...</td>\n",
       "    </tr>\n",
       "  </tbody>\n",
       "</table>\n",
       "<p>9427 rows × 4 columns</p>\n",
       "</div>"
      ],
      "text/plain": [
       "                                               question  \\\n",
       "0       do iran and afghanistan speak the same language   \n",
       "1     do good samaritan laws protect those who help ...   \n",
       "2     is windows movie maker part of windows essentials   \n",
       "3     is confectionary sugar the same as powdered sugar   \n",
       "4            is elder scrolls online the same as skyrim   \n",
       "...                                                 ...   \n",
       "9422             is a us district court a federal court   \n",
       "9423  can a tenant get a restraining order against a...   \n",
       "9424       is the golden state warriors in the playoffs   \n",
       "9425             downton abbey will there be a season 7   \n",
       "9426  is margin of error the same as confidence inte...   \n",
       "\n",
       "                               title  answer  \\\n",
       "0                   Persian language    True   \n",
       "1                 Good Samaritan law    True   \n",
       "2                Windows Movie Maker    True   \n",
       "3                     Powdered sugar    True   \n",
       "4           The Elder Scrolls Online   False   \n",
       "...                              ...     ...   \n",
       "9422    United States district court    True   \n",
       "9423             Landlord harassment    True   \n",
       "9424           Golden State Warriors    True   \n",
       "9425  List of Downton Abbey episodes   False   \n",
       "9426                 Margin of error   False   \n",
       "\n",
       "                                                passage  \n",
       "0     Persian (/ˈpɜːrʒən, -ʃən/), also known by its ...  \n",
       "1     Good Samaritan laws offer legal protection to ...  \n",
       "2     Windows Movie Maker (formerly known as Windows...  \n",
       "3     Powdered sugar, also called confectioners' sug...  \n",
       "4     As with other games in The Elder Scrolls serie...  \n",
       "...                                                 ...  \n",
       "9422  The United States district courts are the gene...  \n",
       "9423  If a landlord is found to be retaliating, he o...  \n",
       "9424  The Warriors went into the 2018 playoffs as th...  \n",
       "9425  Downton Abbey is a British period drama televi...  \n",
       "9426  The margin of error is usually defined as the ...  \n",
       "\n",
       "[9427 rows x 4 columns]"
      ]
     },
     "execution_count": 19,
     "metadata": {},
     "output_type": "execute_result"
    }
   ],
   "source": [
    "boolq_dataset"
   ]
  },
  {
   "cell_type": "code",
   "execution_count": 20,
   "metadata": {},
   "outputs": [
    {
     "data": {
      "text/plain": [
       "True"
      ]
     },
     "execution_count": 20,
     "metadata": {},
     "output_type": "execute_result"
    }
   ],
   "source": [
    "boolq_dataset['answer'][42] == False"
   ]
  },
  {
   "cell_type": "code",
   "execution_count": 21,
   "metadata": {},
   "outputs": [],
   "source": [
    "from datasets import Boolq_dataset\n",
    "from dataset_loaders import load_boolq\n",
    "from transformers import GPT2Tokenizer\n",
    "\n",
    "boolq_dataset = load_boolq(\"raw_data/BoolQ/train.jsonl\", GPT2Tokenizer.from_pretrained('gpt2'))\n"
   ]
  },
  {
   "cell_type": "code",
   "execution_count": 22,
   "metadata": {},
   "outputs": [
    {
     "data": {
      "text/plain": [
       "(tensor([[  464,   477, 23823, 35733, 28699,   357, 14155,   305,  2395, 27385,\n",
       "           2169,  1084,   694,  4178,     8,   318,   257,  4693,   286, 28699,\n",
       "            287,   262,  1641,  2580,   306,    67,  6058,  3609,    11,  6868,\n",
       "            284, 40941, 35308,   287,   262,  1578,  1829,    13,   337,    13,\n",
       "           2169,  1084,   694,  4178,   318,   530,   286,   262, 45568, 40941,\n",
       "          36288,   287,   262,   995,    13,   632,   318,  1690,  3917,   351,\n",
       "             11,   475,   407,  7173,  3519,   284,    11,   262,  2219, 35733,\n",
       "          28699,    11,   543,   318,   287,   262, 34306,  2580,   306, 32491,\n",
       "             13,   383,  2176, 21240,  3202,  2169,  1084,   694,  4178,   318,\n",
       "            287,  7522,   286, 10914, 40565,  7451,  1766,   268,   430,   324,\n",
       "          12806,  5825,  1084,   694,    13,   271,   612,   884,  1517,   355,\n",
       "            281,   477, 23823, 35733, 28699,    30,  3363,    13]]),\n",
       " tensor([0, 0, 0, 0, 0, 0, 0, 0, 0, 0, 0, 0, 0, 0, 0, 0, 0, 0, 0, 0, 0, 0, 0, 0,\n",
       "         0, 0, 0, 0, 0, 0, 0, 0, 0, 0, 0, 0, 0, 0, 0, 0, 0, 0, 0, 0, 0, 0, 0, 0,\n",
       "         0, 0, 0, 0, 0, 0, 0, 0, 0, 0, 0, 0, 0, 0, 0, 0, 0, 0, 0, 0, 0, 0, 0, 0,\n",
       "         0, 0, 0, 0, 0, 0, 0, 0, 0, 0, 0, 0, 0, 0, 0, 0, 0, 0, 0, 0, 0, 0, 0, 0,\n",
       "         0, 0, 0, 0, 0, 0, 0, 0, 0, 0, 0, 0, 0, 0, 0, 0, 0, 0, 0, 0, 1, 1]),\n",
       " tensor([-100, -100, -100, -100, -100, -100, -100, -100, -100, -100, -100, -100,\n",
       "         -100, -100, -100, -100, -100, -100, -100, -100, -100, -100, -100, -100,\n",
       "         -100, -100, -100, -100, -100, -100, -100, -100, -100, -100, -100, -100,\n",
       "         -100, -100, -100, -100, -100, -100, -100, -100, -100, -100, -100, -100,\n",
       "         -100, -100, -100, -100, -100, -100, -100, -100, -100, -100, -100, -100,\n",
       "         -100, -100, -100, -100, -100, -100, -100, -100, -100, -100, -100, -100,\n",
       "         -100, -100, -100, -100, -100, -100, -100, -100, -100, -100, -100, -100,\n",
       "         -100, -100, -100, -100, -100, -100, -100, -100, -100, -100, -100, -100,\n",
       "         -100, -100, -100, -100, -100, -100, -100, -100, -100, -100, -100, -100,\n",
       "         -100, -100, -100, -100, -100, -100, -100, -100, 3363,   13]))"
      ]
     },
     "execution_count": 22,
     "metadata": {},
     "output_type": "execute_result"
    }
   ],
   "source": [
    "boolq_dataset[435]"
   ]
  },
  {
   "cell_type": "code",
   "execution_count": 23,
   "metadata": {},
   "outputs": [],
   "source": [
    "from datasets import MultiRC_dataset\n",
    "from dataset_loaders import load_multirc\n",
    "from transformers import GPT2Tokenizer\n",
    "\n",
    "multirc_dataset = load_multirc(\"raw_data/multirc-v2/splitv2/train_456-fixedIds.json\", GPT2Tokenizer.from_pretrained('gpt2'))"
   ]
  },
  {
   "cell_type": "code",
   "execution_count": 24,
   "metadata": {},
   "outputs": [
    {
     "data": {
      "text/plain": [
       "(tensor([[37136,   337,   364,    71,   505,   550,   645,  8722,   287, 19732,\n",
       "            465,  2650,   618, 13612,  1625,   319,  7077,   379,  2237,   267,\n",
       "              6, 15750,    13,  1544,  1444,   510,   257, 16212,   290,  1816,\n",
       "            379,  1752,   284,   465,  9519,   379,   262,  8274,   742, 13485,\n",
       "             26,   290, 33381,   263,   774,  3940,   683,    13,  3633,   339,\n",
       "          25148,   465,  6576,    12, 31434,    11,  1718,   257,  7837,   290,\n",
       "            836,  2817,   465,  6155,  6050,   337,   364,    71,   505,   373,\n",
       "            287,   257,  7586,  2050,    13, 39792,  2084, 31774,   550,   587,\n",
       "          11512, 11406,   379,   262,  3687, 11942,  2156,   290,  4624,   287,\n",
       "            262,  1337,   286,  1468, 43116, 17419,   786,    11,   508,   561,\n",
       "           4860,   607,   588,   281, 47656,    13,  1858,   373,   645,  7103,\n",
       "            761,   286,   465, 19338,  3101,   706,   607,    11,   290,   465,\n",
       "           3251,   290,   262,  9412,   286,  2063,   465,  7110,   550,  6411,\n",
       "          24069,   683,    13,  1212,  1862,   582,   373,   645, 38751,   287,\n",
       "          38520,    11,  4249,   772,   287,  4065,    13, 28100,  4250,   422,\n",
       "            465,   898,  1302,    12,  4122,   339,  6939,   326,   262,  2460,\n",
       "            286, 31774,   547,   416,   428,   640,  1262,   790, 28251,   284,\n",
       "          17276,   607,    13,  2990,   561,   407,  6758,   287,   428,    11,\n",
       "            339,   373,  3967,    13,  6653,  7110,   550,   587,   523,  2709,\n",
       "          14209,   290,   477,  1190, 18504,   523, 14169,   306,  6572,   393,\n",
       "           5017,   510,   326,   262,   749,  5032,   913, 20775,    11,  6970,\n",
       "            339,   550, 34682,   262,  2576,    26,   561,   307,  3190, 44432,\n",
       "            287,   281,  2230,   284,  1064,   607,    13,  2061,  1611,   286,\n",
       "          19051,   468, 15336,  2722,  9305,   663,  9041,   286,   262, 22375,\n",
       "            286, 15336, 16712, 13365, 28687,  3548,   632,  5818,   470,  9349,\n",
       "            351,   845,   922, 19051]]),\n",
       " tensor([0, 0, 0, 0, 0, 0, 0, 0, 0, 0, 0, 0, 0, 0, 0, 0, 0, 0, 0, 0, 0, 0, 0, 0,\n",
       "         0, 0, 0, 0, 0, 0, 0, 0, 0, 0, 0, 0, 0, 0, 0, 0, 0, 0, 0, 0, 0, 0, 0, 0,\n",
       "         0, 0, 0, 0, 0, 0, 0, 0, 0, 0, 0, 0, 0, 0, 0, 0, 0, 0, 0, 0, 0, 0, 0, 0,\n",
       "         0, 0, 0, 0, 0, 0, 0, 0, 0, 0, 0, 0, 0, 0, 0, 0, 0, 0, 0, 0, 0, 0, 0, 0,\n",
       "         0, 0, 0, 0, 0, 0, 0, 0, 0, 0, 0, 0, 0, 0, 0, 0, 0, 0, 0, 0, 0, 0, 0, 0,\n",
       "         0, 0, 0, 0, 0, 0, 0, 0, 0, 0, 0, 0, 0, 0, 0, 0, 0, 0, 0, 0, 0, 0, 0, 0,\n",
       "         0, 0, 0, 0, 0, 0, 0, 0, 0, 0, 0, 0, 0, 0, 0, 0, 0, 0, 0, 0, 0, 0, 0, 0,\n",
       "         0, 0, 0, 0, 0, 0, 0, 0, 0, 0, 0, 0, 0, 0, 0, 0, 0, 0, 0, 0, 0, 0, 0, 0,\n",
       "         0, 0, 0, 0, 0, 0, 0, 0, 0, 0, 0, 0, 0, 0, 0, 0, 0, 0, 0, 0, 0, 0, 0, 0,\n",
       "         0, 0, 0, 0, 0, 0, 0, 0, 0, 0, 0, 0, 0, 0, 0, 0, 0, 0, 0, 0, 0, 0, 0, 0,\n",
       "         0, 0, 0, 0, 0, 0, 1, 1, 1, 1, 1, 1, 1, 1]),\n",
       " tensor([ -100,  -100,  -100,  -100,  -100,  -100,  -100,  -100,  -100,  -100,\n",
       "          -100,  -100,  -100,  -100,  -100,  -100,  -100,  -100,  -100,  -100,\n",
       "          -100,  -100,  -100,  -100,  -100,  -100,  -100,  -100,  -100,  -100,\n",
       "          -100,  -100,  -100,  -100,  -100,  -100,  -100,  -100,  -100,  -100,\n",
       "          -100,  -100,  -100,  -100,  -100,  -100,  -100,  -100,  -100,  -100,\n",
       "          -100,  -100,  -100,  -100,  -100,  -100,  -100,  -100,  -100,  -100,\n",
       "          -100,  -100,  -100,  -100,  -100,  -100,  -100,  -100,  -100,  -100,\n",
       "          -100,  -100,  -100,  -100,  -100,  -100,  -100,  -100,  -100,  -100,\n",
       "          -100,  -100,  -100,  -100,  -100,  -100,  -100,  -100,  -100,  -100,\n",
       "          -100,  -100,  -100,  -100,  -100,  -100,  -100,  -100,  -100,  -100,\n",
       "          -100,  -100,  -100,  -100,  -100,  -100,  -100,  -100,  -100,  -100,\n",
       "          -100,  -100,  -100,  -100,  -100,  -100,  -100,  -100,  -100,  -100,\n",
       "          -100,  -100,  -100,  -100,  -100,  -100,  -100,  -100,  -100,  -100,\n",
       "          -100,  -100,  -100,  -100,  -100,  -100,  -100,  -100,  -100,  -100,\n",
       "          -100,  -100,  -100,  -100,  -100,  -100,  -100,  -100,  -100,  -100,\n",
       "          -100,  -100,  -100,  -100,  -100,  -100,  -100,  -100,  -100,  -100,\n",
       "          -100,  -100,  -100,  -100,  -100,  -100,  -100,  -100,  -100,  -100,\n",
       "          -100,  -100,  -100,  -100,  -100,  -100,  -100,  -100,  -100,  -100,\n",
       "          -100,  -100,  -100,  -100,  -100,  -100,  -100,  -100,  -100,  -100,\n",
       "          -100,  -100,  -100,  -100,  -100,  -100,  -100,  -100,  -100,  -100,\n",
       "          -100,  -100,  -100,  -100,  -100,  -100,  -100,  -100,  -100,  -100,\n",
       "          -100,  -100,  -100,  -100,  -100,  -100,  -100,  -100,  -100,  -100,\n",
       "          -100,  -100,  -100,  -100,  -100,  -100,  -100,  -100,  -100,  -100,\n",
       "          -100,  -100,  -100,  -100,  -100,  -100,  -100,  -100,  -100,  -100,\n",
       "          -100,  -100,  -100,  -100,  -100,  -100,   632,  5818,   470,  9349,\n",
       "           351,   845,   922, 19051]))"
      ]
     },
     "execution_count": 24,
     "metadata": {},
     "output_type": "execute_result"
    }
   ],
   "source": [
    "multirc_dataset[56]"
   ]
  },
  {
   "cell_type": "code",
   "execution_count": 25,
   "metadata": {},
   "outputs": [
    {
     "data": {
      "text/plain": [
       "'Does the author claim the animated films message is that the NRA upholds racism?'"
      ]
     },
     "execution_count": 25,
     "metadata": {},
     "output_type": "execute_result"
    }
   ],
   "source": [
    "multirc_dataset.question_answer_objs[0].question"
   ]
  },
  {
   "cell_type": "code",
   "execution_count": 26,
   "metadata": {},
   "outputs": [
    {
     "data": {
      "text/plain": [
       "['Animated history of the US.',\n",
       " 'Of course the cartoon is highly oversimplified, and most critics consider it one of the weakest parts of the film.',\n",
       " 'But it makes a valid claim which you ignore entirely: That the strategy to promote \"gun rights\" for white people and to outlaw gun possession by black people was a way to uphold racism without letting an openly terrorist organization like the KKK flourish.',\n",
       " 'Did the 19th century NRA in the southern states promote gun rights for black people?',\n",
       " 'I highly doubt it.',\n",
       " \"But if they didn't, one of their functions was to continue the racism of the KKK.\",\n",
       " 'This is the key message of this part of the animation, which is again being ignored by its critics.',\n",
       " 'Buell shooting in Flint.',\n",
       " 'You write: \"Fact: The little boy was the class thug, already suspended from school for stabbing another kid with a pencil, and had fought with Kayla the day before\".',\n",
       " \"This characterization of a six-year-old as a pencil-stabbing thug is exactly the kind of hysteria that Moore's film warns against.\",\n",
       " 'It is the typical right-wing reaction which looks for simple answers that do not contradict the Republican mindset.',\n",
       " 'The kid was a little bastard, and the parents were involved in drugs -- case closed.',\n",
       " 'But why do people deal with drugs?',\n",
       " \"Because it's so much fun to do so?\",\n",
       " 'It is by now well documented that the CIA tolerated crack sales in US cities to fund the operation of South American \"contras\" It is equally well known that the so-called \"war on drugs\" begun under the Nixon administration is a failure which has cost hundreds of billions and made America the world leader in prison population (both in relative and absolute numbers).']"
      ]
     },
     "execution_count": 26,
     "metadata": {},
     "output_type": "execute_result"
    }
   ],
   "source": [
    "multirc_dataset.passages[0]"
   ]
  },
  {
   "cell_type": "code",
   "execution_count": 27,
   "metadata": {},
   "outputs": [
    {
     "data": {
      "text/plain": [
       "' high investig shipping rethipaintsitchRE benef island�'"
      ]
     },
     "execution_count": 27,
     "metadata": {},
     "output_type": "execute_result"
    }
   ],
   "source": [
    "tokenizer = GPT2Tokenizer.from_pretrained('gpt2')\n",
    "tokenizer.decode([  1029, 2009, 8440, 1005,\n",
    "         1056, 6003, 2007, 2200, 2204, 7022,  102])"
   ]
  },
  {
   "cell_type": "code",
   "execution_count": 28,
   "metadata": {},
   "outputs": [
    {
     "data": {
      "text/plain": [
       "[6893, 698, 64, 220, 220, 220, 698, 64, 220]"
      ]
     },
     "execution_count": 28,
     "metadata": {},
     "output_type": "execute_result"
    }
   ],
   "source": [
    "a = \"bal bla    bla _ bla\"\n",
    "tokenizer.encode(a[:a.index(\"_\")], add_special_tokens=False)"
   ]
  },
  {
   "cell_type": "code",
   "execution_count": 29,
   "metadata": {},
   "outputs": [
    {
     "data": {
      "text/plain": [
       "'�usra requ install requ install ins requ install�'"
      ]
     },
     "execution_count": 29,
     "metadata": {},
     "output_type": "execute_result"
    }
   ],
   "source": [
    "tokenizer.decode(  [101, 28352, 1038, 2721, 1038, 2721, 1035, 1038, 2721, 102])"
   ]
  },
  {
   "cell_type": "code",
   "execution_count": 30,
   "metadata": {},
   "outputs": [],
   "source": [
    "from datasets import ReCoRD_dataset\n",
    "from dataset_loaders import load_race\n",
    "\n",
    "race_dataset = load_race(\"raw_data/RACE/validation-00000-of-00001.parquet\", GPT2Tokenizer.from_pretrained('gpt2'))"
   ]
  },
  {
   "cell_type": "code",
   "execution_count": 31,
   "metadata": {},
   "outputs": [
    {
     "name": "stdout",
     "output_type": "stream",
     "text": [
      "3556\n",
      "tensor([0, 0, 0, 0, 0, 0, 0, 0, 0, 1, 1, 1, 1, 1, 1, 1, 1, 0, 0, 0])\n",
      "tensor([-100, -100, -100, -100, -100, -100, -100, -100, -100,  356,  815, 2193,\n",
      "         284, 1842, 1123,  584,  220, -100, -100, -100])\n"
     ]
    }
   ],
   "source": [
    "import numpy as np\n",
    "a = np.random.randint(4000)\n",
    "\n",
    "print(a)\n",
    "print(race_dataset[a][1][-20:])\n",
    "print(race_dataset[a][2][-20:])"
   ]
  },
  {
   "cell_type": "code",
   "execution_count": 32,
   "metadata": {},
   "outputs": [
    {
     "data": {
      "text/plain": [
       "(tensor([[23722,   345,   307,   257, 15632,   588, 24572,    30,   317, 15632,\n",
       "           2476,   284,  2193,   290,   892,    13, 11725,   318,   257,   922,\n",
       "           2126,    11,   475,   340,   318,   407,  1576,    13, 24572,   338,\n",
       "           5608,   318,   284,   779,   534,  3632,   517,    13,  3423,   389,\n",
       "            617,  9040,    25,   198,    75, 16981,    13,  1649,   345,   804,\n",
       "            379,   649,  1243,    11,  1265,  1521,   484,   389,   649,   393,\n",
       "           1180,    13, 16981,   517,  2683,    13, 16981,  3511,   290,  1854,\n",
       "             13,  9175,  3612,  1566,   345,  1064,   262,  7429,    13,   198,\n",
       "             75, 15315,    13, 24572,  1807,   287,  5986,    13,  8975,    11,\n",
       "            340,  5419,   284,  3197,  2761,   290,  4213,    13,   198,    75,\n",
       "           4149,    13,  9993,   284,  1100,   649,  1243,    13,  4149,  3835,\n",
       "            422,  1180,  3354,   286,   262,  5888,    13,  2293,   345,  1100,\n",
       "             11,   892,   546,   262,  4213,   345,   423,  4499,    13,  4231,\n",
       "            484,  1180,   422,   644,   345,  1807,    30,   198,    75, 46883,\n",
       "             13,  4650,  4213,  1282,   618,   345,   389, 18397,    13,  7214,\n",
       "            617,   640,   284,  8960,  3511,   287,   262,  2842,   588,  2263,\n",
       "            257,  2513,   287,   257,  3952,    11,  1016,   284,   257, 10010,\n",
       "            393,   257, 13257,    13,   198,    75, 19430,    13,  9175,   257,\n",
       "          26339,    13, 19430,   866,   534,  2683,   290,  4213,    13, 19430,\n",
       "            866,   649,  4213,   706,   345,  1100,    13,   198,    75,  8734,\n",
       "             13, 24572,   973,   284,  1561,   284,   465,  2460,   290,  4727,\n",
       "            465,  4213,    13,  8975,    11,   257,  1545,   460,  1037,   345,\n",
       "           1064,   262,  3280,   284,   257,  1917,    13,   198,    75,  1355,\n",
       "          14802,    13,  2141,   407,  1309,   584,   661,   910,   534,  4213,\n",
       "            389, 14397,    13, 48605,  3511,    13,  3914,   584,   661,  4727,\n",
       "           1521,   484,   892,   345,   389,  2642,    13,  3244,  5409,    13,\n",
       "            464,  1772,  5220,   356,   815,   220,   220,  2112,   262,  4213,\n",
       "            351,  1854,   220,   220,   611,   584,   661,   910,   674,  4213,\n",
       "            389, 14397,    13]]),\n",
       " tensor([0, 0, 0, 0, 0, 0, 0, 0, 0, 0, 0, 0, 0, 0, 0, 0, 0, 0, 0, 0, 0, 0, 0, 0,\n",
       "         0, 0, 0, 0, 0, 0, 0, 0, 0, 0, 0, 0, 0, 0, 0, 0, 0, 0, 0, 0, 0, 0, 0, 0,\n",
       "         0, 0, 0, 0, 0, 0, 0, 0, 0, 0, 0, 0, 0, 0, 0, 0, 0, 0, 0, 0, 0, 0, 0, 0,\n",
       "         0, 0, 0, 0, 0, 0, 0, 0, 0, 0, 0, 0, 0, 0, 0, 0, 0, 0, 0, 0, 0, 0, 0, 0,\n",
       "         0, 0, 0, 0, 0, 0, 0, 0, 0, 0, 0, 0, 0, 0, 0, 0, 0, 0, 0, 0, 0, 0, 0, 0,\n",
       "         0, 0, 0, 0, 0, 0, 0, 0, 0, 0, 0, 0, 0, 0, 0, 0, 0, 0, 0, 0, 0, 0, 0, 0,\n",
       "         0, 0, 0, 0, 0, 0, 0, 0, 0, 0, 0, 0, 0, 0, 0, 0, 0, 0, 0, 0, 0, 0, 0, 0,\n",
       "         0, 0, 0, 0, 0, 0, 0, 0, 0, 0, 0, 0, 0, 0, 0, 0, 0, 0, 0, 0, 0, 0, 0, 0,\n",
       "         0, 0, 0, 0, 0, 0, 0, 0, 0, 0, 0, 0, 0, 0, 0, 0, 0, 0, 0, 0, 0, 0, 0, 0,\n",
       "         0, 0, 0, 0, 0, 0, 0, 0, 0, 0, 0, 0, 0, 0, 0, 0, 0, 0, 0, 0, 0, 0, 0, 0,\n",
       "         0, 0, 0, 0, 0, 0, 0, 0, 0, 0, 0, 0, 0, 0, 0, 0, 0, 0, 0, 0, 0, 0, 0, 0,\n",
       "         0, 0, 0, 1, 1, 1, 1, 1, 1, 0, 0, 0, 0, 0, 0, 0, 0, 0, 0]),\n",
       " tensor([-100, -100, -100, -100, -100, -100, -100, -100, -100, -100, -100, -100,\n",
       "         -100, -100, -100, -100, -100, -100, -100, -100, -100, -100, -100, -100,\n",
       "         -100, -100, -100, -100, -100, -100, -100, -100, -100, -100, -100, -100,\n",
       "         -100, -100, -100, -100, -100, -100, -100, -100, -100, -100, -100, -100,\n",
       "         -100, -100, -100, -100, -100, -100, -100, -100, -100, -100, -100, -100,\n",
       "         -100, -100, -100, -100, -100, -100, -100, -100, -100, -100, -100, -100,\n",
       "         -100, -100, -100, -100, -100, -100, -100, -100, -100, -100, -100, -100,\n",
       "         -100, -100, -100, -100, -100, -100, -100, -100, -100, -100, -100, -100,\n",
       "         -100, -100, -100, -100, -100, -100, -100, -100, -100, -100, -100, -100,\n",
       "         -100, -100, -100, -100, -100, -100, -100, -100, -100, -100, -100, -100,\n",
       "         -100, -100, -100, -100, -100, -100, -100, -100, -100, -100, -100, -100,\n",
       "         -100, -100, -100, -100, -100, -100, -100, -100, -100, -100, -100, -100,\n",
       "         -100, -100, -100, -100, -100, -100, -100, -100, -100, -100, -100, -100,\n",
       "         -100, -100, -100, -100, -100, -100, -100, -100, -100, -100, -100, -100,\n",
       "         -100, -100, -100, -100, -100, -100, -100, -100, -100, -100, -100, -100,\n",
       "         -100, -100, -100, -100, -100, -100, -100, -100, -100, -100, -100, -100,\n",
       "         -100, -100, -100, -100, -100, -100, -100, -100, -100, -100, -100, -100,\n",
       "         -100, -100, -100, -100, -100, -100, -100, -100, -100, -100, -100, -100,\n",
       "         -100, -100, -100, -100, -100, -100, -100, -100, -100, -100, -100, -100,\n",
       "         -100, -100, -100, -100, -100, -100, -100, -100, -100, -100, -100, -100,\n",
       "         -100, -100, -100, -100, -100, -100, -100, -100, -100, -100, -100, -100,\n",
       "         -100, -100, -100, -100, -100, -100, -100, -100, -100, -100, -100, -100,\n",
       "         -100, -100, -100, 2112,  262, 4213,  351, 1854,  220, -100, -100, -100,\n",
       "         -100, -100, -100, -100, -100, -100, -100]))"
      ]
     },
     "execution_count": 32,
     "metadata": {},
     "output_type": "execute_result"
    }
   ],
   "source": [
    "race_dataset[3679]"
   ]
  },
  {
   "cell_type": "code",
   "execution_count": 33,
   "metadata": {},
   "outputs": [
    {
     "data": {
      "text/plain": [
       "' admittedput Accordingitchicro'"
      ]
     },
     "execution_count": 33,
     "metadata": {},
     "output_type": "execute_result"
    }
   ],
   "source": [
    "tokenizer.decode([6848, 1996, 4784, 2007, 2500])"
   ]
  },
  {
   "cell_type": "code",
   "execution_count": 34,
   "metadata": {},
   "outputs": [
    {
     "data": {
      "text/plain": [
       "' conf'"
      ]
     },
     "execution_count": 34,
     "metadata": {},
     "output_type": "execute_result"
    }
   ],
   "source": [
    "tokenizer.decode([1013])"
   ]
  },
  {
   "cell_type": "code",
   "execution_count": 35,
   "metadata": {},
   "outputs": [],
   "source": [
    "import os\n",
    "import pandas as pd\n",
    "import json\n",
    "import re\n",
    "from typing import Type, TypeVar\n",
    "from typing import Tuple, Union, Literal, List, Dict\n",
    "from transformers import AutoTokenizer"
   ]
  },
  {
   "cell_type": "code",
   "execution_count": 36,
   "metadata": {},
   "outputs": [],
   "source": [
    "from datasets import ReCoRD_dataset\n",
    "from dataset_loaders import load_record\n",
    "dataset_record = load_record(path=\"raw_data/ReCoRD/train.json\", tokenizer=GPT2Tokenizer.from_pretrained('gpt2'))"
   ]
  },
  {
   "cell_type": "code",
   "execution_count": 37,
   "metadata": {},
   "outputs": [
    {
     "data": {
      "text/plain": [
       "(tensor([[ 9914, 40263,    11, 16666,   357, 18474,     8,  1377,   632,   338,\n",
       "            587,   517,   621, 11546,   812,  1201, 13420,   504,  2497, 11288,\n",
       "          10797,   452,   283,   338,  1986,    13,   887,   262, 12253,  3554,\n",
       "            338,  6546,  1735, 10899,    82,    11,  1323, 12114, 26928,   290,\n",
       "            336, 45269, 17841, 22928,   503,   422,  2157,  4286, 13431,  3431,\n",
       "            287,   649,   513,    12,    35,  4263, 18475,   416,  1992, 25930,\n",
       "          31039,    13, 26685,   973,  1811,  3788,  4056,   284, 31081,   262,\n",
       "           1986,   286,   262,   582,   508, 35112, 38496,    11, 21291,    11,\n",
       "          25794,    11, 23519,    11, 25768,   290, 16666,   422,   262,  7897,\n",
       "          12389,    13,  1446,   504,   286, 10797,   452,   283,   338, 30142,\n",
       "           3793,    11,   543, 10093,   409, 17047,   276,   734,   812,  2084,\n",
       "             11,  1109,  1850,   656,   511, 16765,    13,  1406,   750,  6754,\n",
       "          21641,    11,  5205,   286, 15032, 22551, 10797,   452,   283, 12408,\n",
       "            290,  4263,   286,  3504,    12,  1886, 13420,   504,    11,  2828,\n",
       "            531,    13,   198,    31,  8929,  2971,   198, 25606,   779,  3644,\n",
       "           4056,   284, 31081, 11288, 10797,   452,   283,   338,  1986,   198,\n",
       "             31,  8929,  2971,   198,    53, 12596,   272,  1992, 25930, 31039,\n",
       "          13581,  4487,   649,    11,   513,    12,    35, 31725,   286, 10797,\n",
       "            452,   283,   198,    31,  8929,  2971,   198, 25606,   779,  1366,\n",
       "            422, 30142,  3793,   409, 17047,   276,   734,   812,  2084,   198,\n",
       "             31,  8929,  2971,   198,  2025,  3645,   656, 10797,   452,   283,\n",
       "            338, 45440,  1918,   468,   587, 15861,  5731,    11,   262,  1230,\n",
       "           1139,    13,   554,  1248,  1129,    11, 10797,   452,   283,  9393,\n",
       "          17113, 21291,    11,   257, 36986,   286,   644,   318,   783,   220,\n",
       "          13420,   504,   837, 21291,    11, 23519,   290, 25794,    13]]),\n",
       " tensor([0, 0, 0, 0, 0, 0, 0, 0, 0, 0, 0, 0, 0, 0, 0, 0, 0, 0, 0, 0, 0, 0, 0, 0,\n",
       "         0, 0, 0, 0, 0, 0, 0, 0, 0, 0, 0, 0, 0, 0, 0, 0, 0, 0, 0, 0, 0, 0, 0, 0,\n",
       "         0, 0, 0, 0, 0, 0, 0, 0, 0, 0, 0, 0, 0, 0, 0, 0, 0, 0, 0, 0, 0, 0, 0, 0,\n",
       "         0, 0, 0, 0, 0, 0, 0, 0, 0, 0, 0, 0, 0, 0, 0, 0, 0, 0, 0, 0, 0, 0, 0, 0,\n",
       "         0, 0, 0, 0, 0, 0, 0, 0, 0, 0, 0, 0, 0, 0, 0, 0, 0, 0, 0, 0, 0, 0, 0, 0,\n",
       "         0, 0, 0, 0, 0, 0, 0, 0, 0, 0, 0, 0, 0, 0, 0, 0, 0, 0, 0, 0, 0, 0, 0, 0,\n",
       "         0, 0, 0, 0, 0, 0, 0, 0, 0, 0, 0, 0, 0, 0, 0, 0, 0, 0, 0, 0, 0, 0, 0, 0,\n",
       "         0, 0, 0, 0, 0, 0, 0, 0, 0, 0, 0, 0, 0, 0, 0, 0, 0, 0, 0, 0, 0, 0, 0, 0,\n",
       "         0, 0, 0, 0, 0, 0, 0, 0, 0, 0, 0, 0, 0, 0, 0, 0, 0, 0, 0, 0, 0, 0, 0, 0,\n",
       "         0, 0, 0, 0, 0, 0, 0, 0, 0, 0, 0, 0, 0, 0, 0, 0, 0, 0, 0, 0, 0, 0, 0, 0,\n",
       "         1, 1, 0, 0, 0, 0, 0, 0, 0]),\n",
       " tensor([ -100,  -100,  -100,  -100,  -100,  -100,  -100,  -100,  -100,  -100,\n",
       "          -100,  -100,  -100,  -100,  -100,  -100,  -100,  -100,  -100,  -100,\n",
       "          -100,  -100,  -100,  -100,  -100,  -100,  -100,  -100,  -100,  -100,\n",
       "          -100,  -100,  -100,  -100,  -100,  -100,  -100,  -100,  -100,  -100,\n",
       "          -100,  -100,  -100,  -100,  -100,  -100,  -100,  -100,  -100,  -100,\n",
       "          -100,  -100,  -100,  -100,  -100,  -100,  -100,  -100,  -100,  -100,\n",
       "          -100,  -100,  -100,  -100,  -100,  -100,  -100,  -100,  -100,  -100,\n",
       "          -100,  -100,  -100,  -100,  -100,  -100,  -100,  -100,  -100,  -100,\n",
       "          -100,  -100,  -100,  -100,  -100,  -100,  -100,  -100,  -100,  -100,\n",
       "          -100,  -100,  -100,  -100,  -100,  -100,  -100,  -100,  -100,  -100,\n",
       "          -100,  -100,  -100,  -100,  -100,  -100,  -100,  -100,  -100,  -100,\n",
       "          -100,  -100,  -100,  -100,  -100,  -100,  -100,  -100,  -100,  -100,\n",
       "          -100,  -100,  -100,  -100,  -100,  -100,  -100,  -100,  -100,  -100,\n",
       "          -100,  -100,  -100,  -100,  -100,  -100,  -100,  -100,  -100,  -100,\n",
       "          -100,  -100,  -100,  -100,  -100,  -100,  -100,  -100,  -100,  -100,\n",
       "          -100,  -100,  -100,  -100,  -100,  -100,  -100,  -100,  -100,  -100,\n",
       "          -100,  -100,  -100,  -100,  -100,  -100,  -100,  -100,  -100,  -100,\n",
       "          -100,  -100,  -100,  -100,  -100,  -100,  -100,  -100,  -100,  -100,\n",
       "          -100,  -100,  -100,  -100,  -100,  -100,  -100,  -100,  -100,  -100,\n",
       "          -100,  -100,  -100,  -100,  -100,  -100,  -100,  -100,  -100,  -100,\n",
       "          -100,  -100,  -100,  -100,  -100,  -100,  -100,  -100,  -100,  -100,\n",
       "          -100,  -100,  -100,  -100,  -100,  -100,  -100,  -100,  -100,  -100,\n",
       "          -100,  -100,  -100,  -100,  -100,  -100,  -100,  -100,  -100,  -100,\n",
       "          -100,  -100,  -100,  -100,  -100,  -100,  -100,  -100,  -100,  -100,\n",
       "         13420,   504,  -100,  -100,  -100,  -100,  -100,  -100,  -100]))"
      ]
     },
     "execution_count": 37,
     "metadata": {},
     "output_type": "execute_result"
    }
   ],
   "source": [
    "dataset_record[13]"
   ]
  },
  {
   "cell_type": "code",
   "execution_count": 38,
   "metadata": {},
   "outputs": [
    {
     "data": {
      "text/plain": [
       "<datasets.Boolq_dataset at 0x7f1712688110>"
      ]
     },
     "execution_count": 38,
     "metadata": {},
     "output_type": "execute_result"
    }
   ],
   "source": [
    "load_boolq(\"raw_data/BoolQ/train.jsonl\", GPT2Tokenizer.from_pretrained('gpt2'))"
   ]
  },
  {
   "cell_type": "code",
   "execution_count": 39,
   "metadata": {},
   "outputs": [],
   "source": [
    "ds = load_record(\"raw_data/ReCoRD/train.json\", GPT2Tokenizer.from_pretrained('gpt2'))"
   ]
  },
  {
   "cell_type": "code",
   "execution_count": 40,
   "metadata": {},
   "outputs": [
    {
     "name": "stdout",
     "output_type": "stream",
     "text": [
      "tensor([[   52,    13,    50,    13,  4986,   286,  1812,  8616, 39162,  6149,\n",
      "         38820,  3352,  7428,   510,  3016,  2319,   812,  2084,   284,  1368,\n",
      "         14159,    11,   753, 15385,   625,   262,  1402,  7022,   338, 14833,\n",
      "           286,  6553,   284, 48968,    11,  1864,   284, 42794,  1431,  1230,\n",
      "          4963,  4481,  2691,  3583,    13,   554,  1811,  2635,  2097,  8292,\n",
      "            11, 39162, 25828,   329,  1913,  2223,   284,  2245, 21193,    11,\n",
      "         26844,   326,   465,   753, 24197,   287,  5478,   373,  1642,   262,\n",
      "           471,    13,    50,    13,   804,  4939,    13,   679,  7189,   326,\n",
      "         14159,   338,  4028,   547,  5059, 10251,  1088,   262,   995,   286,\n",
      "           257, 10595,  3234,  1175,   326,   714, 19431,   625,   656,  9133,\n",
      "          2253,   290,   772, 27397,  1096,   262,  6046,  3687,    13,   554,\n",
      "           257,  2168,   286, 38820,  3352,   326,  3940,    11,  3689, 17929,\n",
      "           422,   257,  2422, 30974,   284, 26665,   290,  9691,   286, 18147,\n",
      "         14090,    13,   198,    31,  8929,  2971,   198,  6423,    12,    52,\n",
      "            13,    50,    13,  4986,   286,  1812, 31997,   416, 42320, 21193,\n",
      "           338,  2551,   284,  3758,  6553,   656, 48968,   287, 15231,   198,\n",
      "            31,  8929,  2971,   198,    42,   747,  3889, 15240,   340,   561,\n",
      "         16866,   465,  3352,   329,  5478,   290,  2227,   284, 50081,   198,\n",
      "            31,  8929,  2971,   198,    35,  1809,   510,  3352,   287, 15408,\n",
      "           284,  1368, 14090,   290,  2422, 26162,   287, 14159,   198,    31,\n",
      "          8929,  2971,   198,     6,    40,   561,   307,   287,  2661,   286,\n",
      "           537,   672,   527,   278,   606,  4032, 39162,   531,    11,  1864,\n",
      "           284,   262,  4963,   198,    31,  8929,  2971,   198,  3646,   504,\n",
      "          1239,  1785,  6605,   355, 12963, 10831,   373,  7018,    13,   383,\n",
      "         38820,  3352, 16493,  2422,  3689,   422, 12013, 28181, 18147,  7937,\n",
      "          6872,  6553,   290,  1175,  2587,   284, 26665,  1028,   220, 14159,\n",
      "           220, 12536,   290,  1633, 25747,    13]])\n",
      "tensor([ -100,  -100,  -100,  -100,  -100,  -100,  -100,  -100,  -100,  -100,\n",
      "         -100,  -100,  -100,  -100,  -100,  -100,  -100,  -100,  -100,  -100,\n",
      "         -100,  -100,  -100,  -100,  -100,  -100,  -100,  -100,  -100,  -100,\n",
      "         -100,  -100,  -100,  -100,  -100,  -100,  -100,  -100,  -100,  -100,\n",
      "         -100,  -100,  -100,  -100,  -100,  -100,  -100,  -100,  -100,  -100,\n",
      "         -100,  -100,  -100,  -100,  -100,  -100,  -100,  -100,  -100,  -100,\n",
      "         -100,  -100,  -100,  -100,  -100,  -100,  -100,  -100,  -100,  -100,\n",
      "         -100,  -100,  -100,  -100,  -100,  -100,  -100,  -100,  -100,  -100,\n",
      "         -100,  -100,  -100,  -100,  -100,  -100,  -100,  -100,  -100,  -100,\n",
      "         -100,  -100,  -100,  -100,  -100,  -100,  -100,  -100,  -100,  -100,\n",
      "         -100,  -100,  -100,  -100,  -100,  -100,  -100,  -100,  -100,  -100,\n",
      "         -100,  -100,  -100,  -100,  -100,  -100,  -100,  -100,  -100,  -100,\n",
      "         -100,  -100,  -100,  -100,  -100,  -100,  -100,  -100,  -100,  -100,\n",
      "         -100,  -100,  -100,  -100,  -100,  -100,  -100,  -100,  -100,  -100,\n",
      "         -100,  -100,  -100,  -100,  -100,  -100,  -100,  -100,  -100,  -100,\n",
      "         -100,  -100,  -100,  -100,  -100,  -100,  -100,  -100,  -100,  -100,\n",
      "         -100,  -100,  -100,  -100,  -100,  -100,  -100,  -100,  -100,  -100,\n",
      "         -100,  -100,  -100,  -100,  -100,  -100,  -100,  -100,  -100,  -100,\n",
      "         -100,  -100,  -100,  -100,  -100,  -100,  -100,  -100,  -100,  -100,\n",
      "         -100,  -100,  -100,  -100,  -100,  -100,  -100,  -100,  -100,  -100,\n",
      "         -100,  -100,  -100,  -100,  -100,  -100,  -100,  -100,  -100,  -100,\n",
      "         -100,  -100,  -100,  -100,  -100,  -100,  -100,  -100,  -100,  -100,\n",
      "         -100,  -100,  -100,  -100,  -100,  -100,  -100,  -100,  -100,  -100,\n",
      "         -100,  -100,  -100,  -100,  -100,  -100,  -100,  -100,  -100,  -100,\n",
      "         -100,  -100,  -100,  -100,  -100,  -100,  -100,  -100,  -100,  -100,\n",
      "         -100,  -100,  -100,  -100,  -100,  -100,  -100,  -100,  -100, 14159,\n",
      "          220,  -100,  -100,  -100,  -100,  -100])\n"
     ]
    }
   ],
   "source": [
    "print(ds[24][0])\n",
    "print(ds[24][2])"
   ]
  },
  {
   "cell_type": "code",
   "execution_count": 41,
   "metadata": {},
   "outputs": [
    {
     "data": {
      "text/plain": [
       "\" run Cl ser Cl visit anythingederal member 58 fall center Han alone disorders homosure En emailreetief carry minduments fraudters DEA Don comesput## age ret serching anythingBl mind Audioters gen mind Element 120045 Britain Sar-> opinions Clattle Assached sum Sonters 58 fall couples cut veh Ang mind...alogtersacht video net customers Currentarrattle triedaffHowput run Cl ser Cl pick planning Clommactive video fraud ret ser briefselves produce revealsppingputoke anything help Swed German ; video issue Kickstarter comes fire yes.' experience someone acquises109 olderputepend Qu Clattle help repl anything Han alone disorders hom video groupstersigure lyricsien helpraelEnglish mind slicrollingpread experience opposition anything unlsect Clganoub University take run Cl ser Cl visit anythingederalilitary Mycollashingalog ret serraz mindligBl fire Audioattle pleganoub 58 fall cos investigches 87 net hom cut tried experienceduct mind sound entitledMartganoub rock En homattleication mindumentssect experiencerael unityattle fraudganoub retatachesmbattle Level anythingempl boditutional26 quickters ret 58 fall mediaters gen mindput Britainganoub hom versionuk forgotged Liberolaaff forceeffect Han alone disorders hom Babyraeligureien Emperoransom unl Bre coreBl experience ; club mind slicrollingpreadaces fraud thin experience impulse Cl\""
      ]
     },
     "execution_count": 41,
     "metadata": {},
     "output_type": "execute_result"
    }
   ],
   "source": [
    "tokenizer.decode([ 1057,  1012,  1055,  1012,  3187,  1997,  2110,  2888,  7618,  2121,\n",
    "          3641,  9530,  3436, 11916,  3488,  4567,  2039,  3053,  2871,  2086,\n",
    "          3283,  2000,  2886,  7394,  1010, 28647,  2094,  2058,  1996,  2235,\n",
    "          2479,  1005,  1055, 10813,  1997,  3629,  2000, 13491,  1010,  2429,\n",
    "          2000, 11703, 24938,  2231,  5491,  6866,  3784,  9317,  1012,  1999,\n",
    "          2195,  2317,  2160,  6295,  1010,  7618,  2121, 11886,  2005,  2844,\n",
    "          2895,  2000,  2644, 11794,  1010, 19725,  2008,  2010,  4297,  9236,\n",
    "          3258,  1999,  3088,  2001,  2437,  1996,  1057,  1012,  1055,  1012,\n",
    "          2298,  5410,  1012,  2002,  5275,  2008,  7394,  1005,  1055,  4506,\n",
    "          2020,  4439, 10069,  2105,  1996,  2088,  1997,  1037,  7289,  2679,\n",
    "          2162,  2008,  2071, 14437,  2058,  2046,  3763,  2637,  1998,  2130,\n",
    "          4078,  2696, 14454,  4697,  1996,  2690,  2264,  1012,  1999,  1037,\n",
    "          2186,  1997,  9530,  3436, 11916,  3488,  2008,  2628,  1010,  7047,\n",
    "         15844,  2013,  1037,  2510, 15823,  2000, 14369, 18886,  9681,  1998,\n",
    "          5471,  1997,  9642,  8831,  1012,  1030, 12944,  2059,  1011,  1057,\n",
    "          1012,  1055,  1012,  3187,  1997,  2110, 18748,  2011, 26000,  2140,\n",
    "         11794,  1005,  1055,  3247,  2000,  4604,  3629,  2046, 13491,  1999,\n",
    "          3339,  1030, 12944,  7618,  2121,  8615,  2009,  2052, 10083,  2010,\n",
    "          3488,  2005,  3088,  1998,  2359,  2000,  2128,  9080, 13143,  1030,\n",
    "         12944,  3881,  2039,  3488,  1999,  3299,  2000,  2886,  8831,  1998,\n",
    "          2510, 14111,  1999,  7394,  1030, 12944,  1005,  1045,  2052,  2022,\n",
    "          1999,  5684,  1997, 18856, 16429,  5677,  2075,  2068,  1010,  1005,\n",
    "          7618,  2121,  2056,  1010,  2429,  2000,  1996,  5491,  1030, 12944,\n",
    "          3488,  2196,  2724, 16453,  2004,  5261,  5708,  2001,  2700, 10760,\n",
    "          9530,  3436, 11916,  3488, 14801,  2510,  7047,  2013, 10851, 22011,\n",
    "          9642,  3719,  4755,  3629,  1998,  2162,  3430,  2000, 14369, 18886,\n",
    "          9681,  2114,  7394,  7888,  1998, 25278,  1012])"
   ]
  },
  {
   "cell_type": "code",
   "execution_count": 42,
   "metadata": {},
   "outputs": [
    {
     "name": "stdout",
     "output_type": "stream",
     "text": [
      "0  ->  The harrowing stories of women and children locked up for so-called 'moral crimes' in Afghanistan's notorious female prison have been revealed after cameras were allowed inside. Mariam has been in Badam Bagh prison for three months after she shot a man who just raped her at gunpoint and then turned the weapon on herself - but she has yet to been charged. Nuria has eight months left to serve of her sentence for trying to divorce her husband. She gave birth in prison to her son and they share a cell together. Scroll down for video Nuria was jailed for trying to divorce her husband. Her son is one of 62 children living at Badam Bagh prison\n",
      "@highlight\n",
      "Most of the 202 Badam Bagh inmates are jailed for so-called 'moral crimes'\n",
      "@highlight\n",
      "Crimes include leaving their husbands or refusing an arrange marriage\n",
      "@highlight\n",
      "62 children live there and share cells with their mothers and five others\n",
      "1  ->  Caracas, Venezuela (CNN) -- It's been more than 180 years since Venezuelans saw Simon Bolivar's face. But the revolutionary leader's thick sideburns, bushy eyebrows and steely gaze popped out from behind picture frames Tuesday in new 3-D images unveiled by President Hugo Chavez. Researchers used several software programs to reconstruct the face of the man who liberated Bolivia, Colombia, Ecuador, Panama, Peru and Venezuela from the Spanish crown. Scans of Bolivar's skeletal remains, which investigators exhumed two years ago, factored into their calculations. So did historical paintings, photos of restored uniforms Bolivar wore and images of middle-aged Venezuelans, officials said.\n",
      "@highlight\n",
      "Researchers use computer programs to reconstruct Simon Bolivar's face\n",
      "@highlight\n",
      "Venezuelan President Hugo Chavez unveils new, 3-D portraits of Bolivar\n",
      "@highlight\n",
      "Researchers use data from skeletal remains exhumed two years ago\n",
      "@highlight\n",
      "An investigation into Bolivar's 1830 death has been inconclusive, the government says\n",
      "2  ->  U.S. Secretary of State Henry Kissinger ordered contingency plans drawn up nearly 40 years ago to attack Cuba, incensed over the small island's deployment of troops to Angola, according to declassified government documents posted online Wednesday. In several White House meetings, Kissinger advocated for strong action to stop Castro, fearful that his incursion in Africa was making the U.S. look weak. He argued that Cuba's actions were driving fears around the world of a wider race war that could spill over into Latin America and even destabilize the Middle East. In a series of contingency plans that followed, options ranged from a military blockade to airstrikes and mining of Cuban ports.\n",
      "@highlight\n",
      "Then-U.S. Secretary of State angered by Fidel Castro's decision to send troops into Angola in 1975\n",
      "@highlight\n",
      "Kissinger feared it would ruin his plans for Africa and wanted to retaliate\n",
      "@highlight\n",
      "Drew up plans in 1976 to attack ports and military installations in Cuba\n",
      "@highlight\n",
      "'I would be in favor of clobbering them,' Kissinger said, according to the documents\n",
      "@highlight\n",
      "Plans never eventuated as Jimmy Carter was elected\n",
      "3  ->  A Peruvian tribe once revered by the Inca's for their fierce hunting skills and formidable warriors are clinging on to their traditional existence in the coca growing valleys of South America, sharing their land with drug traffickers, rebels and illegal loggers. Ashaninka Indians are the largest group of indigenous people in the mountainous nation's Amazon region, but their settlements are so sparse that they now make up less than one per cent of Peru's 30 million population. Ever since they battled rival tribes for territory and food during native rule in the rainforests of South America, the Ashaninka have rarely known peace.\n",
      "@highlight\n",
      "The Ashaninka tribe once shared the Amazon with the like of the Incas hundreds of years ago\n",
      "@highlight\n",
      "They have been forced to share their land after years of conflict forced rebels and drug dealers into the forest\n",
      "@highlight\n",
      "Despite settling in valleys rich with valuable coca, they live a poor pre-industrial existence\n",
      "4  ->  For everyone who has ever thought about shooting their boss - metaphorically, o fcourse - this one is for you. An employee of a Texas armored car company got to do just that this week to 'demonstrate that they take client safety seriously'. And to further that demonstration, the CEO was sitting alone inside the Mercedes-Benz as 12 rounds from an AK-47 rained down upon the SUV. The company, Texas Armoring Corporation, has supplied protected vehicles to the Pope, celebrities like rapper T.I. and actor Steven Segal and oil executives in West Africa, according to My San Antonio. Texas Armoring Corp. & Jason Forston.\n",
      "@highlight\n",
      "Texas Armoring Corporation created a video to show the effectiveness of their armored\n",
      "@highlight\n",
      "CEO R. Trent Kimball sat in the drivers seat of a Mercedes-Benz SUV\n",
      "@highlight\n",
      "Total of 12 rounds fired at the windscreen\n",
      "@highlight\n",
      "Company known for working with celebrities, oil barons and even the Pope\n",
      "5  ->  By Damien Gayle PUBLISHED: 15:38 EST, 10 January 2014 | UPDATED: 19:30 EST, 10 January 2014 China's space agency today distributed fresh new pictures of the Moon's surface from its lunar lander and rover. The Jade Rabbit rover can be seen trundling across the pockmarked surface of Earth's satellite in pictures released today by the Chinese Academy of Sciences. The successful soft-landing of the Chang'e 3 lander in December made China the third country to complete a lunar rover mission after the United States and Russia. Chasing the horizon: The sky over the Moon appears inky black in this picture showing the Jade Rabbit rover trundling across the lunar surface taken from the Chang'e 3 lander and released today by Chinese scientists\n",
      "@highlight\n",
      "President Xi Xinping made the comments while congratulating scientists\n",
      "@highlight\n",
      "Could be a self-aware spin on worldwide ubiquity of Chinese-made goods\n",
      "@highlight\n",
      "Ironically, even Jade Rabbit's engineers admit their design is derivative\n",
      "6  ->  (CNN) -- The father of a 6-year-old girl, one of four relatives who police say were killed by another family member on Thanksgiving Day, said it was \"unbelievable\" how a tip from a television viewer brought about the arrest of the suspect. \"Before the show even came on, Paul was being surrounded by the people behind me,\" Jim Sitton said Tuesday in Jupiter, Florida, standing in front of police officers. Paul M. Merhige is accused of fatally shooting his twin sisters, Sitton's 6-year-old daughter Makayla -- Merhige's cousin -- and a 79-year-old aunt at a family home in Jupiter, Florida, on November 26.\n",
      "@highlight\n",
      "Dad of slain girl, 6, says arrest of relative is first step towards justice\n",
      "@highlight\n",
      "Viewer tip led to arrest of suspect in fatal Thanksgiving shooting\n",
      "@highlight\n",
      "Paul Michael Merhige was arrested Saturday at motel in Florida Keys\n",
      "@highlight\n",
      "Couple who called police lifted tarp to check license plate on Merhige's car\n",
      "7  ->  The way you use Facebook and Twitter could mirror how narcissistic you are, according to a new university study. Research by the University of Michigan examined how social media websites reflect a growing culture of narcissism in the US. Scientists found that middle-aged narcissists are more likely to frequently update their Facebook status, while their younger counterparts take to Twitter to satisfy their vanity. So vain: Adult narcissists are more likely to use Facebook to gain the approval of their peers to boost their ego, according to new research According to Elliot Panek, who was one of three scientists behind the research, middle-aged people use Facebook as a way of gaining approval of their image from their peers, while college students prefer Twitter because they over-value their own opinions.\n",
      "@highlight\n",
      "New research examines link between social media and narcissism\n",
      "@highlight\n",
      "It found younger users are most likely to take to Twitter to boost their ego\n",
      "@highlight\n",
      "But older users will update Facebook in a bid to gain approval from friends\n",
      "8  ->  Why always me? It was Mario Balotelli who first asked the question of himself, and years later we’re still no closer to finding an answer. The man just seems to be a magnet for everything: good and bad. The centre of attention, like he’s involved in a little exhibition game all of his own. And if we thought the white-hot atmosphere of Istanbul’s Ataturk Stadium would make Mario rein himself in a little after those penalty shenanigans in the first leg at Anfield last week, we were very much mistaken. Liverpool striker Mario Balotelli looks over at manager Brendan Rodgers after being substituted\n",
      "@highlight\n",
      "Mario Balotelli received a yellow card after just 11 minutes\n",
      "@highlight\n",
      "Balotelli and Daniel Sturridge were paired up front against Besiktas\n",
      "@highlight\n",
      "Balotelli was substituted in the 82nd minute for Adam Lallana\n",
      "@highlight\n",
      "The striker did not look happy to be going off with extra time looming\n",
      "9  ->  (CNN) -- President Barack Obama has done the right thing by asking Congress to authorize the use of force against Syria to punish President Bashar al-Assad for using chemical weapons on his own people. I say that even as someone who has been a sharp critic of the administration's Syria policy and an outspoken advocate of intervening in various ways to try to protect the millions of innocent Syrians whose lives are at risk, prevent the conflict from destabilizing the region and support members of the Syrian opposition who share our values. The president, as he announced in May, is trying to steer this nation back to a world in which we are not permanently at war and we do not turn to our military as the weapon of first resort in any international crisis.\n",
      "@highlight\n",
      "Anne-Marie Slaughter: Obama right to go to Congress about using force in Syria\n",
      "@highlight\n",
      "Slaughter: A world in which nations use chemical weapons with impunity is too dangerous\n",
      "@highlight\n",
      "She says striking Syria now will be a strike to protect the Syrian people, even if belated\n",
      "@highlight\n",
      "Slaughter: It's time for Congress to step up to its responsibility and support Obama\n",
      "10  ->  (CNN) -- During a 1996 interview with television talk show host Charlie Rose, Apple co-founder Steve Jobs took exception to Rose's characterization of him as \"a guy who founds high-tech companies and tries to make another billion.\" \"Yeah, well, I don't think of myself that way,\" Jobs said. \"The things that I have done in my life, I think the things we do now at Pixar [the animation company he bought in 1986], these are team sports. They are not something one person does.\" If pop culture were a team sport, Jobs would have certainly played quarterback. From the invention of iTunes, which completely changed the business of music, to offering the world its first completely full-length computer-generated animated film with Pixar's \"Toy Story\" in 1995, Jobs left his indelible fingerprints on the entertainment industry.\n",
      "@highlight\n",
      "Steve Jobs pioneered inventions that changed the way the world consumed media\n",
      "@highlight\n",
      "Pixar made the first fully computer-generated animated film\n",
      "@highlight\n",
      "Billboard editor says Jobs brillance made buying music easy and fun\n",
      "11  ->  Ahead of this weekend's Premier League action, Sportsmail will be providing you with all you need to know about every fixture, with team news, provisional squads, betting odds and Opta stats... Here is all the information you need for Arsenal's home clash with Manchester City... You can like our Arsenal Facebook page here Arsenal vs Manchester City (Emirates Stadium) Kick-off: Saturday 12.45pm - BT Sport 1 Odds (subject to change): Arsenal 7/4 Draw 12/5 Manchester City 6/4 Referee: Mark Clattenburg Managers: Arsene Wenger (Arsenal), Manuel Pellegrini (Manchester City) Head-to-head league record: Arsenal wins 85, draws 41, Manchester City wins 46\n",
      "@highlight\n",
      "Danny Welbeck could make his Arsenal debut following £16million arrival from Manchester United on transfer deadline day\n",
      "@highlight\n",
      "Aaron Ramsey to be assessed while Mikel Arteta back in full training\n",
      "@highlight\n",
      "David Ospina and Kieran Gibbs are also on the mend for Gunners\n",
      "@highlight\n",
      "Mesut Ozil likely to be fit after missing out for Germany\n",
      "@highlight\n",
      "Stevan Jovetic will miss out for Manchester City with hamstring injury\n",
      "@highlight\n",
      "Fernando will also miss out but Vincent Kompany likely to start\n",
      "@highlight\n",
      "Eliaquim Mangala and Frank Lampard could make debuts\n",
      "12  ->  Amazon has launched its own currency called Amazon Coins. It's currently only available in the States for Kindle Fire owners, but the Coins can be used to pay for games, apps and in-app purchases from the Amazon Appstore. One Amazon Coin is worth one US penny, and Kindle Fire owners are getting 500 Coins ($5) for free as part of the launch. Amazon has launched its own virtual currency called Coins in the US. It is  only available for Kindle Fire users, for the time being, but can be used to buy games, apps and in-app purchases from the Kindle Appstore, as well as buy items from Amazon's retail store\n",
      "@highlight\n",
      "One Amazon Coin is worth one US penny\n",
      "@highlight\n",
      "Coins can be bought in batches of 1000 and Kindle Users have been given 500 Coins for free\n",
      "@highlight\n",
      "Plans to launch Coins in the UK and for non-Kindle users have not yet been announced\n",
      "13  ->  By Mark Duell If you fancy living like a king, this could be your chance - because an estate agents is offering wannabe royals the chance to rent a castle. The stunning seven-bedroom property, on the site where Henry II, Henry III and Catherine of Aragon stayed, is available for £7,500 per calendar month. The home was built in the 19th century in the grounds of the former Devizes Castle in Wiltshire, near Bath and Chippenham. Impressive: The stunning seven-bedroom property - on the site where Henry II, Henry III and Catherine of Aragon all stayed - is available for £7,500 per calendar month\n",
      "@highlight\n",
      "Seven-bedroom home was built in 19th century in grounds of former Devizes Castle\n",
      "@highlight\n",
      "Henry II, Henry III and Catherine of Aragon all stayed at castle in Wiltshire near Bath\n",
      "@highlight\n",
      "Stunning property includes drawing room, library, dining room and picture gallery\n",
      "@highlight\n",
      "Many original features including stone archways, feature fireplaces and oak floors\n",
      "14  ->  By Sarah Griffiths PUBLISHED: 12:30 EST, 10 July 2013 | UPDATED: 12:37 EST, 10 July 2013 Nasa's next Mars rover has been given a mission to find signs of past life and to collect and store rock from the the red planet that will one day be sent back to Earth. It will demonstrate technology for a human exploration of the planet and look for signs of life. The space agency has revealed what the rover, known as Mars 2020, will look like. Scroll down for video... Nasa's next Mars rover (plans pictured) has been given a mission to find signs of past life and to collect and store rock from the the red planet that will one day be sent back to Earth. Mars 2020 will also demonstrate technology for a human exploration of the planet\n",
      "@highlight\n",
      "Mars 2020 will collect up to 31 rock and soil samples from the red planet and will look for signs of extraterrestrial life\n",
      "@highlight\n",
      "The new rover will use the same landing system as Curiosity and share its frame, which has saved Nasa $1 billion\n",
      "@highlight\n",
      "The mission will bring the sapec agency a step closer to meeting President Obama's challenge to send humans to Mars in the next decade\n",
      "15  ->  Their faces covered, a gang of Ethiopian youths marches towards a rival camp in Calais brandishing sticks and rocks. As they come into sight, a group of Eritreans arm themselves and rush out to defend their territory. But French riot police are on the scene within minutes. After firing tear gas from behind their shields they manage to drive the groups apart. Yesterday’s clash was over almost as soon as it started – but it will happen again today. And tomorrow. Scroll down for video Anger: Police step in when immigrants in Calais cause a disturbance, using canisters of tear gas on the camps while the immigrants retaliate with thrown stones and sticks over the fence\n",
      "@highlight\n",
      "French police pictured breaking up fights between rival groups\n",
      "@highlight\n",
      "Officers are stretched to breaking point by constant violence\n",
      "@highlight\n",
      "The gangs fight over the best routes to the ferry port to the UK\n",
      "16  ->  Kabul, Afghanistan (CNN) -- The commander of U.S. and NATO-led forces in Afghanistan apologized Wednesday after an investigation concluded that coalition troops accidentally killed nine civilians -- including some children -- in a strike Tuesday. Gen. David Petraeus, commander of the NATO-led International Security Assistance Force (ISAF), said he would personally apologize to Afghan President Hamid Karzai after Karzai returns from a trip to London this week. \"We are deeply sorry for this tragedy and apologize to the members of the Afghan government, the people of Afghanistan, and, most importantly, the surviving family members of those killed by our actions,\" Petraeus said in a statement Wednesday.\n",
      "@highlight\n",
      "NEW:  Karzai condemns the incident\n",
      "@highlight\n",
      "Helicopters attacked after insurgents fired rockets at coalition troops\n",
      "@highlight\n",
      "9 civilians were killed, including some children\n",
      "@highlight\n",
      "Gen. David Petraeus apologizes\n",
      "17  ->  Washington (CNN) -- When Chris Christie praises President Barack Obama as \"outstanding\" and \"incredibly supportive,\" you know something extraordinary has occurred. Obama updated on Sandy; praised by Christie In this case, it was once-in-a-lifetime Superstorm Sandy, which caused the outspoken Republican governor of New Jersey to declare a state of emergency and seek federal help for widespread devastation. Interviewed Tuesday on NBC, Christie described Obama's response as \"outstanding,\" and he told CNN that the president had been \"incredibly supportive and helpful to our state.\" \"This is much more important than any election,\" Christie told CNN's \"Piers Morgan Tonight.\" Obama has \"been outstanding to deal with on this and I look forward to seeing him tomorrow so he can see for himself what this hurricane has done to my state,\" Christie said Tuesday night.\n",
      "@highlight\n",
      "Mitt Romney surrogate Chris Christie praises President Barack Obama's response to Sandy\n",
      "@highlight\n",
      "The superstorm focuses attention on the role of government in disaster relief\n",
      "@highlight\n",
      "Romney advocates a state-led approach, but his campaign promises enough funding\n",
      "@highlight\n",
      "Obama emphasizes federal, state and local cooperation\n",
      "18  ->  Back to jail: Steven Powell, seen in an old mug shot, is serving 40 days in jail for failing to get treatment Steven Powell, the father-in-law of missing mother Susan Powell, has been sent back to jail for refusing to get sexual deviancy treatment as he awaits child porn charges, it has emerged. A Washington state judge ruled that the 64-year-old, who is from Tacoma, must go back to jail for at least 40 days, RadarOnline reported. Saturday will mark five years since his daughter-in-law Susan vanished in Utah, which means she will be declared legally dead. Her husband, Josh Powell, was long considered a person of interest in her disappearance but was never charged in the case.\n",
      "@highlight\n",
      "The father-in-law of missing Utah mother Susan Powell has headed back to jail for 40 days after failing to get treatment\n",
      "@highlight\n",
      "He served two years in prison after he took sexually explicit photos of two young neighbors and he is now facing child porn charges\n",
      "@highlight\n",
      "Saturday marks five years since Susan vanished - which means that she will be declared legally dead under Utah law\n",
      "@highlight\n",
      "Her husband, Steven Powell's son Josh, was long a person of interest in the case but never charged; he killed himself and their two sons in a 2012 fire\n",
      "19  ->  Mr Rowe has been advocating for the AFL to be broadcast in HD for two years An avid AFL fan has accused the Seven Network of 'backflipping' on a promise to broadcast the 2014 grand final on it's high definition channel. Josh Rowe, a passionate AFL follower, has been advocating for the broadcast of AFL in HD for over two years, with his webite 'AFL in HD Please' having nearly 80,000 followers on Twitter. Rowe went public with emails on Tuesday which detail communication between himself and Seven Melbourne managing director Lewis Martin, which indicate that the network made a commitment to show the AFL grand final on their HD broadcast channel, 7Mate.\n",
      "@highlight\n",
      "Was promised by Seven Melbourne that the AFL grand final would be broadcast in high definition\n",
      "@highlight\n",
      "Managing director Lewis Martin asked him to keep the commitment confidential\n",
      "@highlight\n",
      "Seven Network did a 'gold medal winning back flip' on promise\n",
      "@highlight\n",
      "Claims Martin did this to sabotage campaign for the AFL in HD\n",
      "@highlight\n",
      "Claims Seven is choosing monetary gains over the desires of fans\n"
     ]
    }
   ],
   "source": [
    "for i in range(20):\n",
    "    print(i, \" -> \", ds.passages[i])"
   ]
  },
  {
   "cell_type": "code",
   "execution_count": 43,
   "metadata": {},
   "outputs": [
    {
     "data": {
      "text/plain": [
       "[]"
      ]
     },
     "execution_count": 43,
     "metadata": {},
     "output_type": "execute_result"
    }
   ],
   "source": [
    "list(filter(lambda x: x.query.startswith(\"the continge\"), ds.question_answer_objs))"
   ]
  },
  {
   "cell_type": "code",
   "execution_count": 44,
   "metadata": {},
   "outputs": [],
   "source": [
    "from training import train_LLM\n",
    "from transformers import GPT2Tokenizer\n",
    "from datasets import Boolq_dataset\n",
    "from dataset_loaders import load_boolq\n",
    "from models import Model_LLM\n",
    "from transformers import GPT2LMHeadModel\n",
    "\n",
    "tokenizer = GPT2Tokenizer.from_pretrained('gpt2')\n",
    "boolq_dataset = load_boolq(\"raw_data/BoolQ/train.jsonl\", tokenizer)\n",
    "eval_boolq_dataset = load_boolq(\"raw_data/BoolQ/dev.jsonl\", tokenizer)\n",
    "\n",
    "base_model = GPT2LMHeadModel.from_pretrained('gpt2')\n",
    "model = Model_LLM(base_model, tokenizer)\n",
    "optimizer = torch.optim.Adam(model.parameters(), lr=1e-5)"
   ]
  },
  {
   "cell_type": "code",
   "execution_count": null,
   "metadata": {},
   "outputs": [],
   "source": [
    "train_LLM(model=model, optimizer=optimizer, dataset=boolq_dataset, eval_dataset=eval_boolq_dataset, epochs=1, batch_size=1)"
   ]
  }
 ],
 "metadata": {
  "kernelspec": {
   "display_name": "usr",
   "language": "python",
   "name": "python3"
  },
  "language_info": {
   "codemirror_mode": {
    "name": "ipython",
    "version": 3
   },
   "file_extension": ".py",
   "mimetype": "text/x-python",
   "name": "python",
   "nbconvert_exporter": "python",
   "pygments_lexer": "ipython3",
   "version": "3.12.3"
  }
 },
 "nbformat": 4,
 "nbformat_minor": 2
}
